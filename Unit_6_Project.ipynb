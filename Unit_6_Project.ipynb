{
  "nbformat": 4,
  "nbformat_minor": 0,
  "metadata": {
    "colab": {
      "provenance": [],
      "include_colab_link": true
    },
    "kernelspec": {
      "name": "python3",
      "display_name": "Python 3"
    },
    "language_info": {
      "name": "python"
    },
    "widgets": {
      "application/vnd.jupyter.widget-state+json": {
        "fbf8c797a1184d0ca12a4b0c3d3ca160": {
          "model_module": "@jupyter-widgets/output",
          "model_name": "OutputModel",
          "model_module_version": "1.0.0",
          "state": {
            "_dom_classes": [],
            "_model_module": "@jupyter-widgets/output",
            "_model_module_version": "1.0.0",
            "_model_name": "OutputModel",
            "_view_count": null,
            "_view_module": "@jupyter-widgets/output",
            "_view_module_version": "1.0.0",
            "_view_name": "OutputView",
            "layout": "IPY_MODEL_fc7dbfa6b32b4c5a934ce799e95fc495",
            "msg_id": "",
            "outputs": [
              {
                "output_type": "display_data",
                "data": {
                  "text/plain": "Sampling chain 0, 0 divergences \u001b[32m━━━━━━━━━━━━━━━━━━━━━━━━━━━━━━━━━━━━━━━━\u001b[0m \u001b[35m100%\u001b[0m \u001b[36m0:00:00\u001b[0m / \u001b[33m0:00:01\u001b[0m\n",
                  "text/html": "<pre style=\"white-space:pre;overflow-x:auto;line-height:normal;font-family:Menlo,'DejaVu Sans Mono',consolas,'Courier New',monospace\">Sampling chain 0, 0 divergences <span style=\"color: #008000; text-decoration-color: #008000\">━━━━━━━━━━━━━━━━━━━━━━━━━━━━━━━━━━━━━━━━</span> <span style=\"color: #800080; text-decoration-color: #800080\">100%</span> <span style=\"color: #008080; text-decoration-color: #008080\">0:00:00</span> / <span style=\"color: #808000; text-decoration-color: #808000\">0:00:01</span>\n</pre>\n"
                },
                "metadata": {}
              }
            ]
          }
        },
        "fc7dbfa6b32b4c5a934ce799e95fc495": {
          "model_module": "@jupyter-widgets/base",
          "model_name": "LayoutModel",
          "model_module_version": "1.2.0",
          "state": {
            "_model_module": "@jupyter-widgets/base",
            "_model_module_version": "1.2.0",
            "_model_name": "LayoutModel",
            "_view_count": null,
            "_view_module": "@jupyter-widgets/base",
            "_view_module_version": "1.2.0",
            "_view_name": "LayoutView",
            "align_content": null,
            "align_items": null,
            "align_self": null,
            "border": null,
            "bottom": null,
            "display": null,
            "flex": null,
            "flex_flow": null,
            "grid_area": null,
            "grid_auto_columns": null,
            "grid_auto_flow": null,
            "grid_auto_rows": null,
            "grid_column": null,
            "grid_gap": null,
            "grid_row": null,
            "grid_template_areas": null,
            "grid_template_columns": null,
            "grid_template_rows": null,
            "height": null,
            "justify_content": null,
            "justify_items": null,
            "left": null,
            "margin": null,
            "max_height": null,
            "max_width": null,
            "min_height": null,
            "min_width": null,
            "object_fit": null,
            "object_position": null,
            "order": null,
            "overflow": null,
            "overflow_x": null,
            "overflow_y": null,
            "padding": null,
            "right": null,
            "top": null,
            "visibility": null,
            "width": null
          }
        },
        "e14142d74ef84c21acbbd446f4840fcd": {
          "model_module": "@jupyter-widgets/output",
          "model_name": "OutputModel",
          "model_module_version": "1.0.0",
          "state": {
            "_dom_classes": [],
            "_model_module": "@jupyter-widgets/output",
            "_model_module_version": "1.0.0",
            "_model_name": "OutputModel",
            "_view_count": null,
            "_view_module": "@jupyter-widgets/output",
            "_view_module_version": "1.0.0",
            "_view_name": "OutputView",
            "layout": "IPY_MODEL_975f92961c484ab187f4da78c2614906",
            "msg_id": "",
            "outputs": [
              {
                "output_type": "display_data",
                "data": {
                  "text/plain": "Sampling chain 1, 0 divergences \u001b[32m━━━━━━━━━━━━━━━━━━━━━━━━━━━━━━━━━━━━━━━━\u001b[0m \u001b[35m100%\u001b[0m \u001b[36m0:00:00\u001b[0m / \u001b[33m0:00:02\u001b[0m\n",
                  "text/html": "<pre style=\"white-space:pre;overflow-x:auto;line-height:normal;font-family:Menlo,'DejaVu Sans Mono',consolas,'Courier New',monospace\">Sampling chain 1, 0 divergences <span style=\"color: #008000; text-decoration-color: #008000\">━━━━━━━━━━━━━━━━━━━━━━━━━━━━━━━━━━━━━━━━</span> <span style=\"color: #800080; text-decoration-color: #800080\">100%</span> <span style=\"color: #008080; text-decoration-color: #008080\">0:00:00</span> / <span style=\"color: #808000; text-decoration-color: #808000\">0:00:02</span>\n</pre>\n"
                },
                "metadata": {}
              }
            ]
          }
        },
        "975f92961c484ab187f4da78c2614906": {
          "model_module": "@jupyter-widgets/base",
          "model_name": "LayoutModel",
          "model_module_version": "1.2.0",
          "state": {
            "_model_module": "@jupyter-widgets/base",
            "_model_module_version": "1.2.0",
            "_model_name": "LayoutModel",
            "_view_count": null,
            "_view_module": "@jupyter-widgets/base",
            "_view_module_version": "1.2.0",
            "_view_name": "LayoutView",
            "align_content": null,
            "align_items": null,
            "align_self": null,
            "border": null,
            "bottom": null,
            "display": null,
            "flex": null,
            "flex_flow": null,
            "grid_area": null,
            "grid_auto_columns": null,
            "grid_auto_flow": null,
            "grid_auto_rows": null,
            "grid_column": null,
            "grid_gap": null,
            "grid_row": null,
            "grid_template_areas": null,
            "grid_template_columns": null,
            "grid_template_rows": null,
            "height": null,
            "justify_content": null,
            "justify_items": null,
            "left": null,
            "margin": null,
            "max_height": null,
            "max_width": null,
            "min_height": null,
            "min_width": null,
            "object_fit": null,
            "object_position": null,
            "order": null,
            "overflow": null,
            "overflow_x": null,
            "overflow_y": null,
            "padding": null,
            "right": null,
            "top": null,
            "visibility": null,
            "width": null
          }
        },
        "dd32dea8767346d6aa26a6f6086b9017": {
          "model_module": "@jupyter-widgets/output",
          "model_name": "OutputModel",
          "model_module_version": "1.0.0",
          "state": {
            "_dom_classes": [],
            "_model_module": "@jupyter-widgets/output",
            "_model_module_version": "1.0.0",
            "_model_name": "OutputModel",
            "_view_count": null,
            "_view_module": "@jupyter-widgets/output",
            "_view_module_version": "1.0.0",
            "_view_name": "OutputView",
            "layout": "IPY_MODEL_9fd35a11063c47a1814297e78f7b974a",
            "msg_id": "",
            "outputs": [
              {
                "output_type": "display_data",
                "data": {
                  "text/plain": "Sampling ... \u001b[32m━━━━━━━━━━━━━━━━━━━━━━━━━━━━━━━━━━━━━━━━\u001b[0m \u001b[35m100%\u001b[0m \u001b[36m0:00:00\u001b[0m / \u001b[33m0:00:04\u001b[0m\n",
                  "text/html": "<pre style=\"white-space:pre;overflow-x:auto;line-height:normal;font-family:Menlo,'DejaVu Sans Mono',consolas,'Courier New',monospace\">Sampling ... <span style=\"color: #008000; text-decoration-color: #008000\">━━━━━━━━━━━━━━━━━━━━━━━━━━━━━━━━━━━━━━━━</span> <span style=\"color: #800080; text-decoration-color: #800080\">100%</span> <span style=\"color: #008080; text-decoration-color: #008080\">0:00:00</span> / <span style=\"color: #808000; text-decoration-color: #808000\">0:00:04</span>\n</pre>\n"
                },
                "metadata": {}
              }
            ]
          }
        },
        "9fd35a11063c47a1814297e78f7b974a": {
          "model_module": "@jupyter-widgets/base",
          "model_name": "LayoutModel",
          "model_module_version": "1.2.0",
          "state": {
            "_model_module": "@jupyter-widgets/base",
            "_model_module_version": "1.2.0",
            "_model_name": "LayoutModel",
            "_view_count": null,
            "_view_module": "@jupyter-widgets/base",
            "_view_module_version": "1.2.0",
            "_view_name": "LayoutView",
            "align_content": null,
            "align_items": null,
            "align_self": null,
            "border": null,
            "bottom": null,
            "display": null,
            "flex": null,
            "flex_flow": null,
            "grid_area": null,
            "grid_auto_columns": null,
            "grid_auto_flow": null,
            "grid_auto_rows": null,
            "grid_column": null,
            "grid_gap": null,
            "grid_row": null,
            "grid_template_areas": null,
            "grid_template_columns": null,
            "grid_template_rows": null,
            "height": null,
            "justify_content": null,
            "justify_items": null,
            "left": null,
            "margin": null,
            "max_height": null,
            "max_width": null,
            "min_height": null,
            "min_width": null,
            "object_fit": null,
            "object_position": null,
            "order": null,
            "overflow": null,
            "overflow_x": null,
            "overflow_y": null,
            "padding": null,
            "right": null,
            "top": null,
            "visibility": null,
            "width": null
          }
        },
        "014f423bfc2e4e8895ee0ccb5e18d262": {
          "model_module": "@jupyter-widgets/output",
          "model_name": "OutputModel",
          "model_module_version": "1.0.0",
          "state": {
            "_dom_classes": [],
            "_model_module": "@jupyter-widgets/output",
            "_model_module_version": "1.0.0",
            "_model_name": "OutputModel",
            "_view_count": null,
            "_view_module": "@jupyter-widgets/output",
            "_view_module_version": "1.0.0",
            "_view_name": "OutputView",
            "layout": "IPY_MODEL_6f3487c9c87e4b75ae209b2d5c9cfe53",
            "msg_id": "",
            "outputs": [
              {
                "output_type": "display_data",
                "data": {
                  "text/plain": "Sampling chain 0, 315 divergences \u001b[32m━━━━━━━━━━━━━━━━━━━━━━━━━━━━━━━━━━━━━━━━\u001b[0m \u001b[35m100%\u001b[0m \u001b[36m0:00:00\u001b[0m / \u001b[33m0:00:06\u001b[0m\n",
                  "text/html": "<pre style=\"white-space:pre;overflow-x:auto;line-height:normal;font-family:Menlo,'DejaVu Sans Mono',consolas,'Courier New',monospace\">Sampling chain 0, 315 divergences <span style=\"color: #008000; text-decoration-color: #008000\">━━━━━━━━━━━━━━━━━━━━━━━━━━━━━━━━━━━━━━━━</span> <span style=\"color: #800080; text-decoration-color: #800080\">100%</span> <span style=\"color: #008080; text-decoration-color: #008080\">0:00:00</span> / <span style=\"color: #808000; text-decoration-color: #808000\">0:00:06</span>\n</pre>\n"
                },
                "metadata": {}
              }
            ]
          }
        },
        "6f3487c9c87e4b75ae209b2d5c9cfe53": {
          "model_module": "@jupyter-widgets/base",
          "model_name": "LayoutModel",
          "model_module_version": "1.2.0",
          "state": {
            "_model_module": "@jupyter-widgets/base",
            "_model_module_version": "1.2.0",
            "_model_name": "LayoutModel",
            "_view_count": null,
            "_view_module": "@jupyter-widgets/base",
            "_view_module_version": "1.2.0",
            "_view_name": "LayoutView",
            "align_content": null,
            "align_items": null,
            "align_self": null,
            "border": null,
            "bottom": null,
            "display": null,
            "flex": null,
            "flex_flow": null,
            "grid_area": null,
            "grid_auto_columns": null,
            "grid_auto_flow": null,
            "grid_auto_rows": null,
            "grid_column": null,
            "grid_gap": null,
            "grid_row": null,
            "grid_template_areas": null,
            "grid_template_columns": null,
            "grid_template_rows": null,
            "height": null,
            "justify_content": null,
            "justify_items": null,
            "left": null,
            "margin": null,
            "max_height": null,
            "max_width": null,
            "min_height": null,
            "min_width": null,
            "object_fit": null,
            "object_position": null,
            "order": null,
            "overflow": null,
            "overflow_x": null,
            "overflow_y": null,
            "padding": null,
            "right": null,
            "top": null,
            "visibility": null,
            "width": null
          }
        },
        "fe38b5afbf38422f8fff69f691aa7b29": {
          "model_module": "@jupyter-widgets/output",
          "model_name": "OutputModel",
          "model_module_version": "1.0.0",
          "state": {
            "_dom_classes": [],
            "_model_module": "@jupyter-widgets/output",
            "_model_module_version": "1.0.0",
            "_model_name": "OutputModel",
            "_view_count": null,
            "_view_module": "@jupyter-widgets/output",
            "_view_module_version": "1.0.0",
            "_view_name": "OutputView",
            "layout": "IPY_MODEL_97803edd52fa41c9addb4d0c353359b1",
            "msg_id": "",
            "outputs": [
              {
                "output_type": "display_data",
                "data": {
                  "text/plain": "Sampling chain 1, 360 divergences \u001b[32m━━━━━━━━━━━━━━━━━━━━━━━━━━━━━━━━━━━━━━━━\u001b[0m \u001b[35m100%\u001b[0m \u001b[36m0:00:00\u001b[0m / \u001b[33m0:00:05\u001b[0m\n",
                  "text/html": "<pre style=\"white-space:pre;overflow-x:auto;line-height:normal;font-family:Menlo,'DejaVu Sans Mono',consolas,'Courier New',monospace\">Sampling chain 1, 360 divergences <span style=\"color: #008000; text-decoration-color: #008000\">━━━━━━━━━━━━━━━━━━━━━━━━━━━━━━━━━━━━━━━━</span> <span style=\"color: #800080; text-decoration-color: #800080\">100%</span> <span style=\"color: #008080; text-decoration-color: #008080\">0:00:00</span> / <span style=\"color: #808000; text-decoration-color: #808000\">0:00:05</span>\n</pre>\n"
                },
                "metadata": {}
              }
            ]
          }
        },
        "97803edd52fa41c9addb4d0c353359b1": {
          "model_module": "@jupyter-widgets/base",
          "model_name": "LayoutModel",
          "model_module_version": "1.2.0",
          "state": {
            "_model_module": "@jupyter-widgets/base",
            "_model_module_version": "1.2.0",
            "_model_name": "LayoutModel",
            "_view_count": null,
            "_view_module": "@jupyter-widgets/base",
            "_view_module_version": "1.2.0",
            "_view_name": "LayoutView",
            "align_content": null,
            "align_items": null,
            "align_self": null,
            "border": null,
            "bottom": null,
            "display": null,
            "flex": null,
            "flex_flow": null,
            "grid_area": null,
            "grid_auto_columns": null,
            "grid_auto_flow": null,
            "grid_auto_rows": null,
            "grid_column": null,
            "grid_gap": null,
            "grid_row": null,
            "grid_template_areas": null,
            "grid_template_columns": null,
            "grid_template_rows": null,
            "height": null,
            "justify_content": null,
            "justify_items": null,
            "left": null,
            "margin": null,
            "max_height": null,
            "max_width": null,
            "min_height": null,
            "min_width": null,
            "object_fit": null,
            "object_position": null,
            "order": null,
            "overflow": null,
            "overflow_x": null,
            "overflow_y": null,
            "padding": null,
            "right": null,
            "top": null,
            "visibility": null,
            "width": null
          }
        },
        "b0e9f38e5e454005ab41f6c2edd9ce71": {
          "model_module": "@jupyter-widgets/output",
          "model_name": "OutputModel",
          "model_module_version": "1.0.0",
          "state": {
            "_dom_classes": [],
            "_model_module": "@jupyter-widgets/output",
            "_model_module_version": "1.0.0",
            "_model_name": "OutputModel",
            "_view_count": null,
            "_view_module": "@jupyter-widgets/output",
            "_view_module_version": "1.0.0",
            "_view_name": "OutputView",
            "layout": "IPY_MODEL_33d7a63ed03c4fa4bb4f62bc16911fba",
            "msg_id": "",
            "outputs": [
              {
                "output_type": "display_data",
                "data": {
                  "text/plain": "Sampling chain 0, 0 divergences \u001b[32m━━━━━━━━━━━━━━━━━━━━━━━━━━━━━━━━━━━━━━━━\u001b[0m \u001b[35m100%\u001b[0m \u001b[36m0:00:00\u001b[0m / \u001b[33m0:00:01\u001b[0m\n",
                  "text/html": "<pre style=\"white-space:pre;overflow-x:auto;line-height:normal;font-family:Menlo,'DejaVu Sans Mono',consolas,'Courier New',monospace\">Sampling chain 0, 0 divergences <span style=\"color: #008000; text-decoration-color: #008000\">━━━━━━━━━━━━━━━━━━━━━━━━━━━━━━━━━━━━━━━━</span> <span style=\"color: #800080; text-decoration-color: #800080\">100%</span> <span style=\"color: #008080; text-decoration-color: #008080\">0:00:00</span> / <span style=\"color: #808000; text-decoration-color: #808000\">0:00:01</span>\n</pre>\n"
                },
                "metadata": {}
              }
            ]
          }
        },
        "33d7a63ed03c4fa4bb4f62bc16911fba": {
          "model_module": "@jupyter-widgets/base",
          "model_name": "LayoutModel",
          "model_module_version": "1.2.0",
          "state": {
            "_model_module": "@jupyter-widgets/base",
            "_model_module_version": "1.2.0",
            "_model_name": "LayoutModel",
            "_view_count": null,
            "_view_module": "@jupyter-widgets/base",
            "_view_module_version": "1.2.0",
            "_view_name": "LayoutView",
            "align_content": null,
            "align_items": null,
            "align_self": null,
            "border": null,
            "bottom": null,
            "display": null,
            "flex": null,
            "flex_flow": null,
            "grid_area": null,
            "grid_auto_columns": null,
            "grid_auto_flow": null,
            "grid_auto_rows": null,
            "grid_column": null,
            "grid_gap": null,
            "grid_row": null,
            "grid_template_areas": null,
            "grid_template_columns": null,
            "grid_template_rows": null,
            "height": null,
            "justify_content": null,
            "justify_items": null,
            "left": null,
            "margin": null,
            "max_height": null,
            "max_width": null,
            "min_height": null,
            "min_width": null,
            "object_fit": null,
            "object_position": null,
            "order": null,
            "overflow": null,
            "overflow_x": null,
            "overflow_y": null,
            "padding": null,
            "right": null,
            "top": null,
            "visibility": null,
            "width": null
          }
        },
        "f65a6f398cd44f64bc18695c508e8e2f": {
          "model_module": "@jupyter-widgets/output",
          "model_name": "OutputModel",
          "model_module_version": "1.0.0",
          "state": {
            "_dom_classes": [],
            "_model_module": "@jupyter-widgets/output",
            "_model_module_version": "1.0.0",
            "_model_name": "OutputModel",
            "_view_count": null,
            "_view_module": "@jupyter-widgets/output",
            "_view_module_version": "1.0.0",
            "_view_name": "OutputView",
            "layout": "IPY_MODEL_da8ecbf275ea4d719848e077a2d12709",
            "msg_id": "",
            "outputs": [
              {
                "output_type": "display_data",
                "data": {
                  "text/plain": "Sampling chain 1, 0 divergences \u001b[32m━━━━━━━━━━━━━━━━━━━━━━━━━━━━━━━━━━━━━━━━\u001b[0m \u001b[35m100%\u001b[0m \u001b[36m0:00:00\u001b[0m / \u001b[33m0:00:01\u001b[0m\n",
                  "text/html": "<pre style=\"white-space:pre;overflow-x:auto;line-height:normal;font-family:Menlo,'DejaVu Sans Mono',consolas,'Courier New',monospace\">Sampling chain 1, 0 divergences <span style=\"color: #008000; text-decoration-color: #008000\">━━━━━━━━━━━━━━━━━━━━━━━━━━━━━━━━━━━━━━━━</span> <span style=\"color: #800080; text-decoration-color: #800080\">100%</span> <span style=\"color: #008080; text-decoration-color: #008080\">0:00:00</span> / <span style=\"color: #808000; text-decoration-color: #808000\">0:00:01</span>\n</pre>\n"
                },
                "metadata": {}
              }
            ]
          }
        },
        "da8ecbf275ea4d719848e077a2d12709": {
          "model_module": "@jupyter-widgets/base",
          "model_name": "LayoutModel",
          "model_module_version": "1.2.0",
          "state": {
            "_model_module": "@jupyter-widgets/base",
            "_model_module_version": "1.2.0",
            "_model_name": "LayoutModel",
            "_view_count": null,
            "_view_module": "@jupyter-widgets/base",
            "_view_module_version": "1.2.0",
            "_view_name": "LayoutView",
            "align_content": null,
            "align_items": null,
            "align_self": null,
            "border": null,
            "bottom": null,
            "display": null,
            "flex": null,
            "flex_flow": null,
            "grid_area": null,
            "grid_auto_columns": null,
            "grid_auto_flow": null,
            "grid_auto_rows": null,
            "grid_column": null,
            "grid_gap": null,
            "grid_row": null,
            "grid_template_areas": null,
            "grid_template_columns": null,
            "grid_template_rows": null,
            "height": null,
            "justify_content": null,
            "justify_items": null,
            "left": null,
            "margin": null,
            "max_height": null,
            "max_width": null,
            "min_height": null,
            "min_width": null,
            "object_fit": null,
            "object_position": null,
            "order": null,
            "overflow": null,
            "overflow_x": null,
            "overflow_y": null,
            "padding": null,
            "right": null,
            "top": null,
            "visibility": null,
            "width": null
          }
        },
        "fc2c2fb16038479eb4e1b432546f401a": {
          "model_module": "@jupyter-widgets/output",
          "model_name": "OutputModel",
          "model_module_version": "1.0.0",
          "state": {
            "_dom_classes": [],
            "_model_module": "@jupyter-widgets/output",
            "_model_module_version": "1.0.0",
            "_model_name": "OutputModel",
            "_view_count": null,
            "_view_module": "@jupyter-widgets/output",
            "_view_module_version": "1.0.0",
            "_view_name": "OutputView",
            "layout": "IPY_MODEL_7ff7696ac0cf497f95f81d6cdd9af1c9",
            "msg_id": "",
            "outputs": [
              {
                "output_type": "display_data",
                "data": {
                  "text/plain": "Sampling ... \u001b[32m━━━━━━━━━━━━━━━━━━━━━━━━━━━━━━━━━━━━━━━━\u001b[0m \u001b[35m100%\u001b[0m \u001b[36m0:00:00\u001b[0m / \u001b[33m0:00:06\u001b[0m\n",
                  "text/html": "<pre style=\"white-space:pre;overflow-x:auto;line-height:normal;font-family:Menlo,'DejaVu Sans Mono',consolas,'Courier New',monospace\">Sampling ... <span style=\"color: #008000; text-decoration-color: #008000\">━━━━━━━━━━━━━━━━━━━━━━━━━━━━━━━━━━━━━━━━</span> <span style=\"color: #800080; text-decoration-color: #800080\">100%</span> <span style=\"color: #008080; text-decoration-color: #008080\">0:00:00</span> / <span style=\"color: #808000; text-decoration-color: #808000\">0:00:06</span>\n</pre>\n"
                },
                "metadata": {}
              }
            ]
          }
        },
        "7ff7696ac0cf497f95f81d6cdd9af1c9": {
          "model_module": "@jupyter-widgets/base",
          "model_name": "LayoutModel",
          "model_module_version": "1.2.0",
          "state": {
            "_model_module": "@jupyter-widgets/base",
            "_model_module_version": "1.2.0",
            "_model_name": "LayoutModel",
            "_view_count": null,
            "_view_module": "@jupyter-widgets/base",
            "_view_module_version": "1.2.0",
            "_view_name": "LayoutView",
            "align_content": null,
            "align_items": null,
            "align_self": null,
            "border": null,
            "bottom": null,
            "display": null,
            "flex": null,
            "flex_flow": null,
            "grid_area": null,
            "grid_auto_columns": null,
            "grid_auto_flow": null,
            "grid_auto_rows": null,
            "grid_column": null,
            "grid_gap": null,
            "grid_row": null,
            "grid_template_areas": null,
            "grid_template_columns": null,
            "grid_template_rows": null,
            "height": null,
            "justify_content": null,
            "justify_items": null,
            "left": null,
            "margin": null,
            "max_height": null,
            "max_width": null,
            "min_height": null,
            "min_width": null,
            "object_fit": null,
            "object_position": null,
            "order": null,
            "overflow": null,
            "overflow_x": null,
            "overflow_y": null,
            "padding": null,
            "right": null,
            "top": null,
            "visibility": null,
            "width": null
          }
        },
        "58d30b3a38d74028b87b2b67f42f5f6d": {
          "model_module": "@jupyter-widgets/output",
          "model_name": "OutputModel",
          "model_module_version": "1.0.0",
          "state": {
            "_dom_classes": [],
            "_model_module": "@jupyter-widgets/output",
            "_model_module_version": "1.0.0",
            "_model_name": "OutputModel",
            "_view_count": null,
            "_view_module": "@jupyter-widgets/output",
            "_view_module_version": "1.0.0",
            "_view_name": "OutputView",
            "layout": "IPY_MODEL_c4fe4c04d85345488b0ac2a06b09245a",
            "msg_id": "",
            "outputs": [
              {
                "output_type": "display_data",
                "data": {
                  "text/plain": "Sampling ... \u001b[32m━━━━━━━━━━━━━━━━━━━━━━━━━━━━━━━━━━━━━━━━\u001b[0m \u001b[35m100%\u001b[0m \u001b[36m0:00:00\u001b[0m / \u001b[33m0:00:06\u001b[0m\n",
                  "text/html": "<pre style=\"white-space:pre;overflow-x:auto;line-height:normal;font-family:Menlo,'DejaVu Sans Mono',consolas,'Courier New',monospace\">Sampling ... <span style=\"color: #008000; text-decoration-color: #008000\">━━━━━━━━━━━━━━━━━━━━━━━━━━━━━━━━━━━━━━━━</span> <span style=\"color: #800080; text-decoration-color: #800080\">100%</span> <span style=\"color: #008080; text-decoration-color: #008080\">0:00:00</span> / <span style=\"color: #808000; text-decoration-color: #808000\">0:00:06</span>\n</pre>\n"
                },
                "metadata": {}
              }
            ]
          }
        },
        "c4fe4c04d85345488b0ac2a06b09245a": {
          "model_module": "@jupyter-widgets/base",
          "model_name": "LayoutModel",
          "model_module_version": "1.2.0",
          "state": {
            "_model_module": "@jupyter-widgets/base",
            "_model_module_version": "1.2.0",
            "_model_name": "LayoutModel",
            "_view_count": null,
            "_view_module": "@jupyter-widgets/base",
            "_view_module_version": "1.2.0",
            "_view_name": "LayoutView",
            "align_content": null,
            "align_items": null,
            "align_self": null,
            "border": null,
            "bottom": null,
            "display": null,
            "flex": null,
            "flex_flow": null,
            "grid_area": null,
            "grid_auto_columns": null,
            "grid_auto_flow": null,
            "grid_auto_rows": null,
            "grid_column": null,
            "grid_gap": null,
            "grid_row": null,
            "grid_template_areas": null,
            "grid_template_columns": null,
            "grid_template_rows": null,
            "height": null,
            "justify_content": null,
            "justify_items": null,
            "left": null,
            "margin": null,
            "max_height": null,
            "max_width": null,
            "min_height": null,
            "min_width": null,
            "object_fit": null,
            "object_position": null,
            "order": null,
            "overflow": null,
            "overflow_x": null,
            "overflow_y": null,
            "padding": null,
            "right": null,
            "top": null,
            "visibility": null,
            "width": null
          }
        }
      }
    }
  },
  "cells": [
    {
      "cell_type": "markdown",
      "metadata": {
        "id": "view-in-github",
        "colab_type": "text"
      },
      "source": [
        "<a href=\"https://colab.research.google.com/github/YogithL/Data-Science/blob/main/Unit_6_Project.ipynb\" target=\"_parent\"><img src=\"https://colab.research.google.com/assets/colab-badge.svg\" alt=\"Open In Colab\"/></a>"
      ]
    },
    {
      "cell_type": "code",
      "source": [
        "import numpy as np\n",
        "from matplotlib import pyplot as plt\n",
        "import seaborn as sns\n",
        "import pandas as pd\n",
        "import arviz as az\n",
        "import xarray as xr\n",
        "import pymc as pm\n",
        "from scipy.interpolate import PchipInterpolator"
      ],
      "metadata": {
        "id": "6lOEx9AVP_F9"
      },
      "execution_count": 1,
      "outputs": []
    },
    {
      "cell_type": "markdown",
      "source": [
        "# **Forecasting Nvidia Stock Returns through Autoregression**\n"
      ],
      "metadata": {
        "id": "d8gfMaGY_5SD"
      }
    },
    {
      "cell_type": "markdown",
      "source": [
        "Price forecasting is a complex process that has many approaches; in this project, I'm exploring one route: autoregression. This method relies on identifying and leveraging the temporal dependencies---if any---within Nvidia's closing prices. Essentially, the program takes historical points, assigns them weights, and extrapolates these patterns to predict a price.\n",
        "\n",
        "**NVDA is a leading computer chip manufacturer that has surged in popularity because of rapid development in AI.*"
      ],
      "metadata": {
        "id": "6I2OzLQcDjzQ"
      }
    },
    {
      "cell_type": "markdown",
      "source": [
        "## **The Data**\n"
      ],
      "metadata": {
        "id": "0rjBniz6Glzr"
      }
    },
    {
      "cell_type": "markdown",
      "source": [
        "The data below was extracted from Yahoo Finance and contains the closing prices of NVDA from June 11th, 2024; this was right after their stock split."
      ],
      "metadata": {
        "id": "ESs6fkSdGo7r"
      }
    },
    {
      "cell_type": "code",
      "source": [
        "nvda= pd.read_csv('https://raw.githubusercontent.com/YogithL/Data-Science/refs/heads/main/NVDA%20Stock%20Data%20-%20Sheet1%20(1).csv')\n",
        "nvda = nvda[::-1] #Reverses the order so the latest stock price is at the end\n",
        "nvda"
      ],
      "metadata": {
        "colab": {
          "base_uri": "https://localhost:8080/",
          "height": 423
        },
        "id": "k3a0GL0rZUWF",
        "outputId": "6f843b5e-2c22-4b45-cdf9-6387fc7e9295"
      },
      "execution_count": 2,
      "outputs": [
        {
          "output_type": "execute_result",
          "data": {
            "text/plain": [
              "          Date    Open    High     Low   Close  Adj Close\n",
              "154  6/11/2024  121.77  122.87  118.74  120.91     120.89\n",
              "153  6/12/2024  123.06  126.88  122.57  125.20     125.18\n",
              "152  6/13/2024  129.39  129.80  127.16  129.61     129.59\n",
              "151  6/14/2024  129.96  132.84  128.32  131.88     131.86\n",
              "150  6/17/2024  132.99  133.73  129.58  130.98     130.96\n",
              "..         ...     ...     ...     ...     ...        ...\n",
              "4    1/16/2025  138.64  138.75  133.49  133.57     133.57\n",
              "3    1/17/2025  136.69  138.50  135.46  137.71     137.71\n",
              "2    1/21/2025  139.16  141.83  137.09  140.83     140.83\n",
              "1    1/22/2025  144.66  147.79  143.67  147.07     147.07\n",
              "0    1/23/2025  145.05  147.23  143.72  147.22     147.22\n",
              "\n",
              "[155 rows x 6 columns]"
            ],
            "text/html": [
              "\n",
              "  <div id=\"df-c1b1050d-9679-4fe8-bb6c-89806f0bc100\" class=\"colab-df-container\">\n",
              "    <div>\n",
              "<style scoped>\n",
              "    .dataframe tbody tr th:only-of-type {\n",
              "        vertical-align: middle;\n",
              "    }\n",
              "\n",
              "    .dataframe tbody tr th {\n",
              "        vertical-align: top;\n",
              "    }\n",
              "\n",
              "    .dataframe thead th {\n",
              "        text-align: right;\n",
              "    }\n",
              "</style>\n",
              "<table border=\"1\" class=\"dataframe\">\n",
              "  <thead>\n",
              "    <tr style=\"text-align: right;\">\n",
              "      <th></th>\n",
              "      <th>Date</th>\n",
              "      <th>Open</th>\n",
              "      <th>High</th>\n",
              "      <th>Low</th>\n",
              "      <th>Close</th>\n",
              "      <th>Adj Close</th>\n",
              "    </tr>\n",
              "  </thead>\n",
              "  <tbody>\n",
              "    <tr>\n",
              "      <th>154</th>\n",
              "      <td>6/11/2024</td>\n",
              "      <td>121.77</td>\n",
              "      <td>122.87</td>\n",
              "      <td>118.74</td>\n",
              "      <td>120.91</td>\n",
              "      <td>120.89</td>\n",
              "    </tr>\n",
              "    <tr>\n",
              "      <th>153</th>\n",
              "      <td>6/12/2024</td>\n",
              "      <td>123.06</td>\n",
              "      <td>126.88</td>\n",
              "      <td>122.57</td>\n",
              "      <td>125.20</td>\n",
              "      <td>125.18</td>\n",
              "    </tr>\n",
              "    <tr>\n",
              "      <th>152</th>\n",
              "      <td>6/13/2024</td>\n",
              "      <td>129.39</td>\n",
              "      <td>129.80</td>\n",
              "      <td>127.16</td>\n",
              "      <td>129.61</td>\n",
              "      <td>129.59</td>\n",
              "    </tr>\n",
              "    <tr>\n",
              "      <th>151</th>\n",
              "      <td>6/14/2024</td>\n",
              "      <td>129.96</td>\n",
              "      <td>132.84</td>\n",
              "      <td>128.32</td>\n",
              "      <td>131.88</td>\n",
              "      <td>131.86</td>\n",
              "    </tr>\n",
              "    <tr>\n",
              "      <th>150</th>\n",
              "      <td>6/17/2024</td>\n",
              "      <td>132.99</td>\n",
              "      <td>133.73</td>\n",
              "      <td>129.58</td>\n",
              "      <td>130.98</td>\n",
              "      <td>130.96</td>\n",
              "    </tr>\n",
              "    <tr>\n",
              "      <th>...</th>\n",
              "      <td>...</td>\n",
              "      <td>...</td>\n",
              "      <td>...</td>\n",
              "      <td>...</td>\n",
              "      <td>...</td>\n",
              "      <td>...</td>\n",
              "    </tr>\n",
              "    <tr>\n",
              "      <th>4</th>\n",
              "      <td>1/16/2025</td>\n",
              "      <td>138.64</td>\n",
              "      <td>138.75</td>\n",
              "      <td>133.49</td>\n",
              "      <td>133.57</td>\n",
              "      <td>133.57</td>\n",
              "    </tr>\n",
              "    <tr>\n",
              "      <th>3</th>\n",
              "      <td>1/17/2025</td>\n",
              "      <td>136.69</td>\n",
              "      <td>138.50</td>\n",
              "      <td>135.46</td>\n",
              "      <td>137.71</td>\n",
              "      <td>137.71</td>\n",
              "    </tr>\n",
              "    <tr>\n",
              "      <th>2</th>\n",
              "      <td>1/21/2025</td>\n",
              "      <td>139.16</td>\n",
              "      <td>141.83</td>\n",
              "      <td>137.09</td>\n",
              "      <td>140.83</td>\n",
              "      <td>140.83</td>\n",
              "    </tr>\n",
              "    <tr>\n",
              "      <th>1</th>\n",
              "      <td>1/22/2025</td>\n",
              "      <td>144.66</td>\n",
              "      <td>147.79</td>\n",
              "      <td>143.67</td>\n",
              "      <td>147.07</td>\n",
              "      <td>147.07</td>\n",
              "    </tr>\n",
              "    <tr>\n",
              "      <th>0</th>\n",
              "      <td>1/23/2025</td>\n",
              "      <td>145.05</td>\n",
              "      <td>147.23</td>\n",
              "      <td>143.72</td>\n",
              "      <td>147.22</td>\n",
              "      <td>147.22</td>\n",
              "    </tr>\n",
              "  </tbody>\n",
              "</table>\n",
              "<p>155 rows × 6 columns</p>\n",
              "</div>\n",
              "    <div class=\"colab-df-buttons\">\n",
              "\n",
              "  <div class=\"colab-df-container\">\n",
              "    <button class=\"colab-df-convert\" onclick=\"convertToInteractive('df-c1b1050d-9679-4fe8-bb6c-89806f0bc100')\"\n",
              "            title=\"Convert this dataframe to an interactive table.\"\n",
              "            style=\"display:none;\">\n",
              "\n",
              "  <svg xmlns=\"http://www.w3.org/2000/svg\" height=\"24px\" viewBox=\"0 -960 960 960\">\n",
              "    <path d=\"M120-120v-720h720v720H120Zm60-500h600v-160H180v160Zm220 220h160v-160H400v160Zm0 220h160v-160H400v160ZM180-400h160v-160H180v160Zm440 0h160v-160H620v160ZM180-180h160v-160H180v160Zm440 0h160v-160H620v160Z\"/>\n",
              "  </svg>\n",
              "    </button>\n",
              "\n",
              "  <style>\n",
              "    .colab-df-container {\n",
              "      display:flex;\n",
              "      gap: 12px;\n",
              "    }\n",
              "\n",
              "    .colab-df-convert {\n",
              "      background-color: #E8F0FE;\n",
              "      border: none;\n",
              "      border-radius: 50%;\n",
              "      cursor: pointer;\n",
              "      display: none;\n",
              "      fill: #1967D2;\n",
              "      height: 32px;\n",
              "      padding: 0 0 0 0;\n",
              "      width: 32px;\n",
              "    }\n",
              "\n",
              "    .colab-df-convert:hover {\n",
              "      background-color: #E2EBFA;\n",
              "      box-shadow: 0px 1px 2px rgba(60, 64, 67, 0.3), 0px 1px 3px 1px rgba(60, 64, 67, 0.15);\n",
              "      fill: #174EA6;\n",
              "    }\n",
              "\n",
              "    .colab-df-buttons div {\n",
              "      margin-bottom: 4px;\n",
              "    }\n",
              "\n",
              "    [theme=dark] .colab-df-convert {\n",
              "      background-color: #3B4455;\n",
              "      fill: #D2E3FC;\n",
              "    }\n",
              "\n",
              "    [theme=dark] .colab-df-convert:hover {\n",
              "      background-color: #434B5C;\n",
              "      box-shadow: 0px 1px 3px 1px rgba(0, 0, 0, 0.15);\n",
              "      filter: drop-shadow(0px 1px 2px rgba(0, 0, 0, 0.3));\n",
              "      fill: #FFFFFF;\n",
              "    }\n",
              "  </style>\n",
              "\n",
              "    <script>\n",
              "      const buttonEl =\n",
              "        document.querySelector('#df-c1b1050d-9679-4fe8-bb6c-89806f0bc100 button.colab-df-convert');\n",
              "      buttonEl.style.display =\n",
              "        google.colab.kernel.accessAllowed ? 'block' : 'none';\n",
              "\n",
              "      async function convertToInteractive(key) {\n",
              "        const element = document.querySelector('#df-c1b1050d-9679-4fe8-bb6c-89806f0bc100');\n",
              "        const dataTable =\n",
              "          await google.colab.kernel.invokeFunction('convertToInteractive',\n",
              "                                                    [key], {});\n",
              "        if (!dataTable) return;\n",
              "\n",
              "        const docLinkHtml = 'Like what you see? Visit the ' +\n",
              "          '<a target=\"_blank\" href=https://colab.research.google.com/notebooks/data_table.ipynb>data table notebook</a>'\n",
              "          + ' to learn more about interactive tables.';\n",
              "        element.innerHTML = '';\n",
              "        dataTable['output_type'] = 'display_data';\n",
              "        await google.colab.output.renderOutput(dataTable, element);\n",
              "        const docLink = document.createElement('div');\n",
              "        docLink.innerHTML = docLinkHtml;\n",
              "        element.appendChild(docLink);\n",
              "      }\n",
              "    </script>\n",
              "  </div>\n",
              "\n",
              "\n",
              "<div id=\"df-9b644977-b4f4-41a6-ad06-45d6236dc655\">\n",
              "  <button class=\"colab-df-quickchart\" onclick=\"quickchart('df-9b644977-b4f4-41a6-ad06-45d6236dc655')\"\n",
              "            title=\"Suggest charts\"\n",
              "            style=\"display:none;\">\n",
              "\n",
              "<svg xmlns=\"http://www.w3.org/2000/svg\" height=\"24px\"viewBox=\"0 0 24 24\"\n",
              "     width=\"24px\">\n",
              "    <g>\n",
              "        <path d=\"M19 3H5c-1.1 0-2 .9-2 2v14c0 1.1.9 2 2 2h14c1.1 0 2-.9 2-2V5c0-1.1-.9-2-2-2zM9 17H7v-7h2v7zm4 0h-2V7h2v10zm4 0h-2v-4h2v4z\"/>\n",
              "    </g>\n",
              "</svg>\n",
              "  </button>\n",
              "\n",
              "<style>\n",
              "  .colab-df-quickchart {\n",
              "      --bg-color: #E8F0FE;\n",
              "      --fill-color: #1967D2;\n",
              "      --hover-bg-color: #E2EBFA;\n",
              "      --hover-fill-color: #174EA6;\n",
              "      --disabled-fill-color: #AAA;\n",
              "      --disabled-bg-color: #DDD;\n",
              "  }\n",
              "\n",
              "  [theme=dark] .colab-df-quickchart {\n",
              "      --bg-color: #3B4455;\n",
              "      --fill-color: #D2E3FC;\n",
              "      --hover-bg-color: #434B5C;\n",
              "      --hover-fill-color: #FFFFFF;\n",
              "      --disabled-bg-color: #3B4455;\n",
              "      --disabled-fill-color: #666;\n",
              "  }\n",
              "\n",
              "  .colab-df-quickchart {\n",
              "    background-color: var(--bg-color);\n",
              "    border: none;\n",
              "    border-radius: 50%;\n",
              "    cursor: pointer;\n",
              "    display: none;\n",
              "    fill: var(--fill-color);\n",
              "    height: 32px;\n",
              "    padding: 0;\n",
              "    width: 32px;\n",
              "  }\n",
              "\n",
              "  .colab-df-quickchart:hover {\n",
              "    background-color: var(--hover-bg-color);\n",
              "    box-shadow: 0 1px 2px rgba(60, 64, 67, 0.3), 0 1px 3px 1px rgba(60, 64, 67, 0.15);\n",
              "    fill: var(--button-hover-fill-color);\n",
              "  }\n",
              "\n",
              "  .colab-df-quickchart-complete:disabled,\n",
              "  .colab-df-quickchart-complete:disabled:hover {\n",
              "    background-color: var(--disabled-bg-color);\n",
              "    fill: var(--disabled-fill-color);\n",
              "    box-shadow: none;\n",
              "  }\n",
              "\n",
              "  .colab-df-spinner {\n",
              "    border: 2px solid var(--fill-color);\n",
              "    border-color: transparent;\n",
              "    border-bottom-color: var(--fill-color);\n",
              "    animation:\n",
              "      spin 1s steps(1) infinite;\n",
              "  }\n",
              "\n",
              "  @keyframes spin {\n",
              "    0% {\n",
              "      border-color: transparent;\n",
              "      border-bottom-color: var(--fill-color);\n",
              "      border-left-color: var(--fill-color);\n",
              "    }\n",
              "    20% {\n",
              "      border-color: transparent;\n",
              "      border-left-color: var(--fill-color);\n",
              "      border-top-color: var(--fill-color);\n",
              "    }\n",
              "    30% {\n",
              "      border-color: transparent;\n",
              "      border-left-color: var(--fill-color);\n",
              "      border-top-color: var(--fill-color);\n",
              "      border-right-color: var(--fill-color);\n",
              "    }\n",
              "    40% {\n",
              "      border-color: transparent;\n",
              "      border-right-color: var(--fill-color);\n",
              "      border-top-color: var(--fill-color);\n",
              "    }\n",
              "    60% {\n",
              "      border-color: transparent;\n",
              "      border-right-color: var(--fill-color);\n",
              "    }\n",
              "    80% {\n",
              "      border-color: transparent;\n",
              "      border-right-color: var(--fill-color);\n",
              "      border-bottom-color: var(--fill-color);\n",
              "    }\n",
              "    90% {\n",
              "      border-color: transparent;\n",
              "      border-bottom-color: var(--fill-color);\n",
              "    }\n",
              "  }\n",
              "</style>\n",
              "\n",
              "  <script>\n",
              "    async function quickchart(key) {\n",
              "      const quickchartButtonEl =\n",
              "        document.querySelector('#' + key + ' button');\n",
              "      quickchartButtonEl.disabled = true;  // To prevent multiple clicks.\n",
              "      quickchartButtonEl.classList.add('colab-df-spinner');\n",
              "      try {\n",
              "        const charts = await google.colab.kernel.invokeFunction(\n",
              "            'suggestCharts', [key], {});\n",
              "      } catch (error) {\n",
              "        console.error('Error during call to suggestCharts:', error);\n",
              "      }\n",
              "      quickchartButtonEl.classList.remove('colab-df-spinner');\n",
              "      quickchartButtonEl.classList.add('colab-df-quickchart-complete');\n",
              "    }\n",
              "    (() => {\n",
              "      let quickchartButtonEl =\n",
              "        document.querySelector('#df-9b644977-b4f4-41a6-ad06-45d6236dc655 button');\n",
              "      quickchartButtonEl.style.display =\n",
              "        google.colab.kernel.accessAllowed ? 'block' : 'none';\n",
              "    })();\n",
              "  </script>\n",
              "</div>\n",
              "\n",
              "  <div id=\"id_2f642db2-c294-4ac8-bd62-f11719455be2\">\n",
              "    <style>\n",
              "      .colab-df-generate {\n",
              "        background-color: #E8F0FE;\n",
              "        border: none;\n",
              "        border-radius: 50%;\n",
              "        cursor: pointer;\n",
              "        display: none;\n",
              "        fill: #1967D2;\n",
              "        height: 32px;\n",
              "        padding: 0 0 0 0;\n",
              "        width: 32px;\n",
              "      }\n",
              "\n",
              "      .colab-df-generate:hover {\n",
              "        background-color: #E2EBFA;\n",
              "        box-shadow: 0px 1px 2px rgba(60, 64, 67, 0.3), 0px 1px 3px 1px rgba(60, 64, 67, 0.15);\n",
              "        fill: #174EA6;\n",
              "      }\n",
              "\n",
              "      [theme=dark] .colab-df-generate {\n",
              "        background-color: #3B4455;\n",
              "        fill: #D2E3FC;\n",
              "      }\n",
              "\n",
              "      [theme=dark] .colab-df-generate:hover {\n",
              "        background-color: #434B5C;\n",
              "        box-shadow: 0px 1px 3px 1px rgba(0, 0, 0, 0.15);\n",
              "        filter: drop-shadow(0px 1px 2px rgba(0, 0, 0, 0.3));\n",
              "        fill: #FFFFFF;\n",
              "      }\n",
              "    </style>\n",
              "    <button class=\"colab-df-generate\" onclick=\"generateWithVariable('nvda')\"\n",
              "            title=\"Generate code using this dataframe.\"\n",
              "            style=\"display:none;\">\n",
              "\n",
              "  <svg xmlns=\"http://www.w3.org/2000/svg\" height=\"24px\"viewBox=\"0 0 24 24\"\n",
              "       width=\"24px\">\n",
              "    <path d=\"M7,19H8.4L18.45,9,17,7.55,7,17.6ZM5,21V16.75L18.45,3.32a2,2,0,0,1,2.83,0l1.4,1.43a1.91,1.91,0,0,1,.58,1.4,1.91,1.91,0,0,1-.58,1.4L9.25,21ZM18.45,9,17,7.55Zm-12,3A5.31,5.31,0,0,0,4.9,8.1,5.31,5.31,0,0,0,1,6.5,5.31,5.31,0,0,0,4.9,4.9,5.31,5.31,0,0,0,6.5,1,5.31,5.31,0,0,0,8.1,4.9,5.31,5.31,0,0,0,12,6.5,5.46,5.46,0,0,0,6.5,12Z\"/>\n",
              "  </svg>\n",
              "    </button>\n",
              "    <script>\n",
              "      (() => {\n",
              "      const buttonEl =\n",
              "        document.querySelector('#id_2f642db2-c294-4ac8-bd62-f11719455be2 button.colab-df-generate');\n",
              "      buttonEl.style.display =\n",
              "        google.colab.kernel.accessAllowed ? 'block' : 'none';\n",
              "\n",
              "      buttonEl.onclick = () => {\n",
              "        google.colab.notebook.generateWithVariable('nvda');\n",
              "      }\n",
              "      })();\n",
              "    </script>\n",
              "  </div>\n",
              "\n",
              "    </div>\n",
              "  </div>\n"
            ],
            "application/vnd.google.colaboratory.intrinsic+json": {
              "type": "dataframe",
              "variable_name": "nvda",
              "summary": "{\n  \"name\": \"nvda\",\n  \"rows\": 155,\n  \"fields\": [\n    {\n      \"column\": \"Date\",\n      \"properties\": {\n        \"dtype\": \"object\",\n        \"num_unique_values\": 155,\n        \"samples\": [\n          \"10/7/2024\",\n          \"1/3/2025\",\n          \"7/26/2024\"\n        ],\n        \"semantic_type\": \"\",\n        \"description\": \"\"\n      }\n    },\n    {\n      \"column\": \"Open\",\n      \"properties\": {\n        \"dtype\": \"number\",\n        \"std\": 12.223274263647204,\n        \"min\": 92.06,\n        \"max\": 153.03,\n        \"num_unique_values\": 151,\n        \"samples\": [\n          120.92,\n          130.35,\n          134.01\n        ],\n        \"semantic_type\": \"\",\n        \"description\": \"\"\n      }\n    },\n    {\n      \"column\": \"High\",\n      \"properties\": {\n        \"dtype\": \"number\",\n        \"std\": 11.740585791951144,\n        \"min\": 103.41,\n        \"max\": 153.13,\n        \"num_unique_values\": 154,\n        \"samples\": [\n          128.28,\n          141.35,\n          147.79\n        ],\n        \"semantic_type\": \"\",\n        \"description\": \"\"\n      }\n    },\n    {\n      \"column\": \"Low\",\n      \"properties\": {\n        \"dtype\": \"number\",\n        \"std\": 12.378686847847964,\n        \"min\": 90.69,\n        \"max\": 147.82,\n        \"num_unique_values\": 153,\n        \"samples\": [\n          136.3,\n          131.58,\n          132.11\n        ],\n        \"semantic_type\": \"\",\n        \"description\": \"\"\n      }\n    },\n    {\n      \"column\": \"Close\",\n      \"properties\": {\n        \"dtype\": \"number\",\n        \"std\": 12.10388905568406,\n        \"min\": 98.91,\n        \"max\": 149.43,\n        \"num_unique_values\": 154,\n        \"samples\": [\n          128.28,\n          141.54,\n          147.07\n        ],\n        \"semantic_type\": \"\",\n        \"description\": \"\"\n      }\n    },\n    {\n      \"column\": \"Adj Close\",\n      \"properties\": {\n        \"dtype\": \"number\",\n        \"std\": 12.108588791168664,\n        \"min\": 98.89,\n        \"max\": 149.43,\n        \"num_unique_values\": 152,\n        \"samples\": [\n          117.86,\n          133.57,\n          139.33\n        ],\n        \"semantic_type\": \"\",\n        \"description\": \"\"\n      }\n    }\n  ]\n}"
            }
          },
          "metadata": {},
          "execution_count": 2
        }
      ]
    },
    {
      "cell_type": "markdown",
      "source": [
        "We could build the model using closing prices, but Conditional Autoregression requires stationary data with a constant variance and mean. Raw stock prices are too volatile, making it difficult for the model to detect patterns (Navani). Instead, using Log returns allows us to model day-to-day percent changes, reducing noise and improving the model's accuracy."
      ],
      "metadata": {
        "id": "JYMF6U7LHcg7"
      }
    },
    {
      "cell_type": "code",
      "source": [
        "#Adding a new row in my data for log returns. Shifting by 1 moves all the values down by 1 so we can divide the current price by the previous one.\n",
        "nvda['Log Returns']= np.log(nvda['Adj Close'] /nvda['Adj Close'].shift(1))\n",
        "\n",
        "#Removing the NAN row\n",
        "nvda.dropna(inplace=True)\n",
        "\n",
        "nvda"
      ],
      "metadata": {
        "colab": {
          "base_uri": "https://localhost:8080/",
          "height": 423
        },
        "id": "hJ5uXbWWZ7CT",
        "outputId": "1174cc82-8a4e-4328-bac8-52b521c2b85e"
      },
      "execution_count": 3,
      "outputs": [
        {
          "output_type": "execute_result",
          "data": {
            "text/plain": [
              "          Date    Open    High     Low   Close  Adj Close  Log Returns\n",
              "153  6/12/2024  123.06  126.88  122.57  125.20     125.18     0.034872\n",
              "152  6/13/2024  129.39  129.80  127.16  129.61     129.59     0.034623\n",
              "151  6/14/2024  129.96  132.84  128.32  131.88     131.86     0.017365\n",
              "150  6/17/2024  132.99  133.73  129.58  130.98     130.96    -0.006849\n",
              "149  6/18/2024  131.14  136.33  130.69  135.58     135.56     0.034522\n",
              "..         ...     ...     ...     ...     ...        ...          ...\n",
              "4    1/16/2025  138.64  138.75  133.49  133.57     133.57    -0.019792\n",
              "3    1/17/2025  136.69  138.50  135.46  137.71     137.71     0.030524\n",
              "2    1/21/2025  139.16  141.83  137.09  140.83     140.83     0.022403\n",
              "1    1/22/2025  144.66  147.79  143.67  147.07     147.07     0.043355\n",
              "0    1/23/2025  145.05  147.23  143.72  147.22     147.22     0.001019\n",
              "\n",
              "[154 rows x 7 columns]"
            ],
            "text/html": [
              "\n",
              "  <div id=\"df-685ce462-f62a-457b-b84e-bbf8ab297eb0\" class=\"colab-df-container\">\n",
              "    <div>\n",
              "<style scoped>\n",
              "    .dataframe tbody tr th:only-of-type {\n",
              "        vertical-align: middle;\n",
              "    }\n",
              "\n",
              "    .dataframe tbody tr th {\n",
              "        vertical-align: top;\n",
              "    }\n",
              "\n",
              "    .dataframe thead th {\n",
              "        text-align: right;\n",
              "    }\n",
              "</style>\n",
              "<table border=\"1\" class=\"dataframe\">\n",
              "  <thead>\n",
              "    <tr style=\"text-align: right;\">\n",
              "      <th></th>\n",
              "      <th>Date</th>\n",
              "      <th>Open</th>\n",
              "      <th>High</th>\n",
              "      <th>Low</th>\n",
              "      <th>Close</th>\n",
              "      <th>Adj Close</th>\n",
              "      <th>Log Returns</th>\n",
              "    </tr>\n",
              "  </thead>\n",
              "  <tbody>\n",
              "    <tr>\n",
              "      <th>153</th>\n",
              "      <td>6/12/2024</td>\n",
              "      <td>123.06</td>\n",
              "      <td>126.88</td>\n",
              "      <td>122.57</td>\n",
              "      <td>125.20</td>\n",
              "      <td>125.18</td>\n",
              "      <td>0.034872</td>\n",
              "    </tr>\n",
              "    <tr>\n",
              "      <th>152</th>\n",
              "      <td>6/13/2024</td>\n",
              "      <td>129.39</td>\n",
              "      <td>129.80</td>\n",
              "      <td>127.16</td>\n",
              "      <td>129.61</td>\n",
              "      <td>129.59</td>\n",
              "      <td>0.034623</td>\n",
              "    </tr>\n",
              "    <tr>\n",
              "      <th>151</th>\n",
              "      <td>6/14/2024</td>\n",
              "      <td>129.96</td>\n",
              "      <td>132.84</td>\n",
              "      <td>128.32</td>\n",
              "      <td>131.88</td>\n",
              "      <td>131.86</td>\n",
              "      <td>0.017365</td>\n",
              "    </tr>\n",
              "    <tr>\n",
              "      <th>150</th>\n",
              "      <td>6/17/2024</td>\n",
              "      <td>132.99</td>\n",
              "      <td>133.73</td>\n",
              "      <td>129.58</td>\n",
              "      <td>130.98</td>\n",
              "      <td>130.96</td>\n",
              "      <td>-0.006849</td>\n",
              "    </tr>\n",
              "    <tr>\n",
              "      <th>149</th>\n",
              "      <td>6/18/2024</td>\n",
              "      <td>131.14</td>\n",
              "      <td>136.33</td>\n",
              "      <td>130.69</td>\n",
              "      <td>135.58</td>\n",
              "      <td>135.56</td>\n",
              "      <td>0.034522</td>\n",
              "    </tr>\n",
              "    <tr>\n",
              "      <th>...</th>\n",
              "      <td>...</td>\n",
              "      <td>...</td>\n",
              "      <td>...</td>\n",
              "      <td>...</td>\n",
              "      <td>...</td>\n",
              "      <td>...</td>\n",
              "      <td>...</td>\n",
              "    </tr>\n",
              "    <tr>\n",
              "      <th>4</th>\n",
              "      <td>1/16/2025</td>\n",
              "      <td>138.64</td>\n",
              "      <td>138.75</td>\n",
              "      <td>133.49</td>\n",
              "      <td>133.57</td>\n",
              "      <td>133.57</td>\n",
              "      <td>-0.019792</td>\n",
              "    </tr>\n",
              "    <tr>\n",
              "      <th>3</th>\n",
              "      <td>1/17/2025</td>\n",
              "      <td>136.69</td>\n",
              "      <td>138.50</td>\n",
              "      <td>135.46</td>\n",
              "      <td>137.71</td>\n",
              "      <td>137.71</td>\n",
              "      <td>0.030524</td>\n",
              "    </tr>\n",
              "    <tr>\n",
              "      <th>2</th>\n",
              "      <td>1/21/2025</td>\n",
              "      <td>139.16</td>\n",
              "      <td>141.83</td>\n",
              "      <td>137.09</td>\n",
              "      <td>140.83</td>\n",
              "      <td>140.83</td>\n",
              "      <td>0.022403</td>\n",
              "    </tr>\n",
              "    <tr>\n",
              "      <th>1</th>\n",
              "      <td>1/22/2025</td>\n",
              "      <td>144.66</td>\n",
              "      <td>147.79</td>\n",
              "      <td>143.67</td>\n",
              "      <td>147.07</td>\n",
              "      <td>147.07</td>\n",
              "      <td>0.043355</td>\n",
              "    </tr>\n",
              "    <tr>\n",
              "      <th>0</th>\n",
              "      <td>1/23/2025</td>\n",
              "      <td>145.05</td>\n",
              "      <td>147.23</td>\n",
              "      <td>143.72</td>\n",
              "      <td>147.22</td>\n",
              "      <td>147.22</td>\n",
              "      <td>0.001019</td>\n",
              "    </tr>\n",
              "  </tbody>\n",
              "</table>\n",
              "<p>154 rows × 7 columns</p>\n",
              "</div>\n",
              "    <div class=\"colab-df-buttons\">\n",
              "\n",
              "  <div class=\"colab-df-container\">\n",
              "    <button class=\"colab-df-convert\" onclick=\"convertToInteractive('df-685ce462-f62a-457b-b84e-bbf8ab297eb0')\"\n",
              "            title=\"Convert this dataframe to an interactive table.\"\n",
              "            style=\"display:none;\">\n",
              "\n",
              "  <svg xmlns=\"http://www.w3.org/2000/svg\" height=\"24px\" viewBox=\"0 -960 960 960\">\n",
              "    <path d=\"M120-120v-720h720v720H120Zm60-500h600v-160H180v160Zm220 220h160v-160H400v160Zm0 220h160v-160H400v160ZM180-400h160v-160H180v160Zm440 0h160v-160H620v160ZM180-180h160v-160H180v160Zm440 0h160v-160H620v160Z\"/>\n",
              "  </svg>\n",
              "    </button>\n",
              "\n",
              "  <style>\n",
              "    .colab-df-container {\n",
              "      display:flex;\n",
              "      gap: 12px;\n",
              "    }\n",
              "\n",
              "    .colab-df-convert {\n",
              "      background-color: #E8F0FE;\n",
              "      border: none;\n",
              "      border-radius: 50%;\n",
              "      cursor: pointer;\n",
              "      display: none;\n",
              "      fill: #1967D2;\n",
              "      height: 32px;\n",
              "      padding: 0 0 0 0;\n",
              "      width: 32px;\n",
              "    }\n",
              "\n",
              "    .colab-df-convert:hover {\n",
              "      background-color: #E2EBFA;\n",
              "      box-shadow: 0px 1px 2px rgba(60, 64, 67, 0.3), 0px 1px 3px 1px rgba(60, 64, 67, 0.15);\n",
              "      fill: #174EA6;\n",
              "    }\n",
              "\n",
              "    .colab-df-buttons div {\n",
              "      margin-bottom: 4px;\n",
              "    }\n",
              "\n",
              "    [theme=dark] .colab-df-convert {\n",
              "      background-color: #3B4455;\n",
              "      fill: #D2E3FC;\n",
              "    }\n",
              "\n",
              "    [theme=dark] .colab-df-convert:hover {\n",
              "      background-color: #434B5C;\n",
              "      box-shadow: 0px 1px 3px 1px rgba(0, 0, 0, 0.15);\n",
              "      filter: drop-shadow(0px 1px 2px rgba(0, 0, 0, 0.3));\n",
              "      fill: #FFFFFF;\n",
              "    }\n",
              "  </style>\n",
              "\n",
              "    <script>\n",
              "      const buttonEl =\n",
              "        document.querySelector('#df-685ce462-f62a-457b-b84e-bbf8ab297eb0 button.colab-df-convert');\n",
              "      buttonEl.style.display =\n",
              "        google.colab.kernel.accessAllowed ? 'block' : 'none';\n",
              "\n",
              "      async function convertToInteractive(key) {\n",
              "        const element = document.querySelector('#df-685ce462-f62a-457b-b84e-bbf8ab297eb0');\n",
              "        const dataTable =\n",
              "          await google.colab.kernel.invokeFunction('convertToInteractive',\n",
              "                                                    [key], {});\n",
              "        if (!dataTable) return;\n",
              "\n",
              "        const docLinkHtml = 'Like what you see? Visit the ' +\n",
              "          '<a target=\"_blank\" href=https://colab.research.google.com/notebooks/data_table.ipynb>data table notebook</a>'\n",
              "          + ' to learn more about interactive tables.';\n",
              "        element.innerHTML = '';\n",
              "        dataTable['output_type'] = 'display_data';\n",
              "        await google.colab.output.renderOutput(dataTable, element);\n",
              "        const docLink = document.createElement('div');\n",
              "        docLink.innerHTML = docLinkHtml;\n",
              "        element.appendChild(docLink);\n",
              "      }\n",
              "    </script>\n",
              "  </div>\n",
              "\n",
              "\n",
              "<div id=\"df-e30558f6-0329-4563-b46f-779547659bed\">\n",
              "  <button class=\"colab-df-quickchart\" onclick=\"quickchart('df-e30558f6-0329-4563-b46f-779547659bed')\"\n",
              "            title=\"Suggest charts\"\n",
              "            style=\"display:none;\">\n",
              "\n",
              "<svg xmlns=\"http://www.w3.org/2000/svg\" height=\"24px\"viewBox=\"0 0 24 24\"\n",
              "     width=\"24px\">\n",
              "    <g>\n",
              "        <path d=\"M19 3H5c-1.1 0-2 .9-2 2v14c0 1.1.9 2 2 2h14c1.1 0 2-.9 2-2V5c0-1.1-.9-2-2-2zM9 17H7v-7h2v7zm4 0h-2V7h2v10zm4 0h-2v-4h2v4z\"/>\n",
              "    </g>\n",
              "</svg>\n",
              "  </button>\n",
              "\n",
              "<style>\n",
              "  .colab-df-quickchart {\n",
              "      --bg-color: #E8F0FE;\n",
              "      --fill-color: #1967D2;\n",
              "      --hover-bg-color: #E2EBFA;\n",
              "      --hover-fill-color: #174EA6;\n",
              "      --disabled-fill-color: #AAA;\n",
              "      --disabled-bg-color: #DDD;\n",
              "  }\n",
              "\n",
              "  [theme=dark] .colab-df-quickchart {\n",
              "      --bg-color: #3B4455;\n",
              "      --fill-color: #D2E3FC;\n",
              "      --hover-bg-color: #434B5C;\n",
              "      --hover-fill-color: #FFFFFF;\n",
              "      --disabled-bg-color: #3B4455;\n",
              "      --disabled-fill-color: #666;\n",
              "  }\n",
              "\n",
              "  .colab-df-quickchart {\n",
              "    background-color: var(--bg-color);\n",
              "    border: none;\n",
              "    border-radius: 50%;\n",
              "    cursor: pointer;\n",
              "    display: none;\n",
              "    fill: var(--fill-color);\n",
              "    height: 32px;\n",
              "    padding: 0;\n",
              "    width: 32px;\n",
              "  }\n",
              "\n",
              "  .colab-df-quickchart:hover {\n",
              "    background-color: var(--hover-bg-color);\n",
              "    box-shadow: 0 1px 2px rgba(60, 64, 67, 0.3), 0 1px 3px 1px rgba(60, 64, 67, 0.15);\n",
              "    fill: var(--button-hover-fill-color);\n",
              "  }\n",
              "\n",
              "  .colab-df-quickchart-complete:disabled,\n",
              "  .colab-df-quickchart-complete:disabled:hover {\n",
              "    background-color: var(--disabled-bg-color);\n",
              "    fill: var(--disabled-fill-color);\n",
              "    box-shadow: none;\n",
              "  }\n",
              "\n",
              "  .colab-df-spinner {\n",
              "    border: 2px solid var(--fill-color);\n",
              "    border-color: transparent;\n",
              "    border-bottom-color: var(--fill-color);\n",
              "    animation:\n",
              "      spin 1s steps(1) infinite;\n",
              "  }\n",
              "\n",
              "  @keyframes spin {\n",
              "    0% {\n",
              "      border-color: transparent;\n",
              "      border-bottom-color: var(--fill-color);\n",
              "      border-left-color: var(--fill-color);\n",
              "    }\n",
              "    20% {\n",
              "      border-color: transparent;\n",
              "      border-left-color: var(--fill-color);\n",
              "      border-top-color: var(--fill-color);\n",
              "    }\n",
              "    30% {\n",
              "      border-color: transparent;\n",
              "      border-left-color: var(--fill-color);\n",
              "      border-top-color: var(--fill-color);\n",
              "      border-right-color: var(--fill-color);\n",
              "    }\n",
              "    40% {\n",
              "      border-color: transparent;\n",
              "      border-right-color: var(--fill-color);\n",
              "      border-top-color: var(--fill-color);\n",
              "    }\n",
              "    60% {\n",
              "      border-color: transparent;\n",
              "      border-right-color: var(--fill-color);\n",
              "    }\n",
              "    80% {\n",
              "      border-color: transparent;\n",
              "      border-right-color: var(--fill-color);\n",
              "      border-bottom-color: var(--fill-color);\n",
              "    }\n",
              "    90% {\n",
              "      border-color: transparent;\n",
              "      border-bottom-color: var(--fill-color);\n",
              "    }\n",
              "  }\n",
              "</style>\n",
              "\n",
              "  <script>\n",
              "    async function quickchart(key) {\n",
              "      const quickchartButtonEl =\n",
              "        document.querySelector('#' + key + ' button');\n",
              "      quickchartButtonEl.disabled = true;  // To prevent multiple clicks.\n",
              "      quickchartButtonEl.classList.add('colab-df-spinner');\n",
              "      try {\n",
              "        const charts = await google.colab.kernel.invokeFunction(\n",
              "            'suggestCharts', [key], {});\n",
              "      } catch (error) {\n",
              "        console.error('Error during call to suggestCharts:', error);\n",
              "      }\n",
              "      quickchartButtonEl.classList.remove('colab-df-spinner');\n",
              "      quickchartButtonEl.classList.add('colab-df-quickchart-complete');\n",
              "    }\n",
              "    (() => {\n",
              "      let quickchartButtonEl =\n",
              "        document.querySelector('#df-e30558f6-0329-4563-b46f-779547659bed button');\n",
              "      quickchartButtonEl.style.display =\n",
              "        google.colab.kernel.accessAllowed ? 'block' : 'none';\n",
              "    })();\n",
              "  </script>\n",
              "</div>\n",
              "\n",
              "  <div id=\"id_18361385-e790-4bc9-85ec-80364f1060b5\">\n",
              "    <style>\n",
              "      .colab-df-generate {\n",
              "        background-color: #E8F0FE;\n",
              "        border: none;\n",
              "        border-radius: 50%;\n",
              "        cursor: pointer;\n",
              "        display: none;\n",
              "        fill: #1967D2;\n",
              "        height: 32px;\n",
              "        padding: 0 0 0 0;\n",
              "        width: 32px;\n",
              "      }\n",
              "\n",
              "      .colab-df-generate:hover {\n",
              "        background-color: #E2EBFA;\n",
              "        box-shadow: 0px 1px 2px rgba(60, 64, 67, 0.3), 0px 1px 3px 1px rgba(60, 64, 67, 0.15);\n",
              "        fill: #174EA6;\n",
              "      }\n",
              "\n",
              "      [theme=dark] .colab-df-generate {\n",
              "        background-color: #3B4455;\n",
              "        fill: #D2E3FC;\n",
              "      }\n",
              "\n",
              "      [theme=dark] .colab-df-generate:hover {\n",
              "        background-color: #434B5C;\n",
              "        box-shadow: 0px 1px 3px 1px rgba(0, 0, 0, 0.15);\n",
              "        filter: drop-shadow(0px 1px 2px rgba(0, 0, 0, 0.3));\n",
              "        fill: #FFFFFF;\n",
              "      }\n",
              "    </style>\n",
              "    <button class=\"colab-df-generate\" onclick=\"generateWithVariable('nvda')\"\n",
              "            title=\"Generate code using this dataframe.\"\n",
              "            style=\"display:none;\">\n",
              "\n",
              "  <svg xmlns=\"http://www.w3.org/2000/svg\" height=\"24px\"viewBox=\"0 0 24 24\"\n",
              "       width=\"24px\">\n",
              "    <path d=\"M7,19H8.4L18.45,9,17,7.55,7,17.6ZM5,21V16.75L18.45,3.32a2,2,0,0,1,2.83,0l1.4,1.43a1.91,1.91,0,0,1,.58,1.4,1.91,1.91,0,0,1-.58,1.4L9.25,21ZM18.45,9,17,7.55Zm-12,3A5.31,5.31,0,0,0,4.9,8.1,5.31,5.31,0,0,0,1,6.5,5.31,5.31,0,0,0,4.9,4.9,5.31,5.31,0,0,0,6.5,1,5.31,5.31,0,0,0,8.1,4.9,5.31,5.31,0,0,0,12,6.5,5.46,5.46,0,0,0,6.5,12Z\"/>\n",
              "  </svg>\n",
              "    </button>\n",
              "    <script>\n",
              "      (() => {\n",
              "      const buttonEl =\n",
              "        document.querySelector('#id_18361385-e790-4bc9-85ec-80364f1060b5 button.colab-df-generate');\n",
              "      buttonEl.style.display =\n",
              "        google.colab.kernel.accessAllowed ? 'block' : 'none';\n",
              "\n",
              "      buttonEl.onclick = () => {\n",
              "        google.colab.notebook.generateWithVariable('nvda');\n",
              "      }\n",
              "      })();\n",
              "    </script>\n",
              "  </div>\n",
              "\n",
              "    </div>\n",
              "  </div>\n"
            ],
            "application/vnd.google.colaboratory.intrinsic+json": {
              "type": "dataframe",
              "variable_name": "nvda",
              "summary": "{\n  \"name\": \"nvda\",\n  \"rows\": 154,\n  \"fields\": [\n    {\n      \"column\": \"Date\",\n      \"properties\": {\n        \"dtype\": \"object\",\n        \"num_unique_values\": 154,\n        \"samples\": [\n          \"7/5/2024\",\n          \"10/25/2024\",\n          \"1/22/2025\"\n        ],\n        \"semantic_type\": \"\",\n        \"description\": \"\"\n      }\n    },\n    {\n      \"column\": \"Open\",\n      \"properties\": {\n        \"dtype\": \"number\",\n        \"std\": 12.248327080543014,\n        \"min\": 92.06,\n        \"max\": 153.03,\n        \"num_unique_values\": 151,\n        \"samples\": [\n          120.92,\n          134.03,\n          134.01\n        ],\n        \"semantic_type\": \"\",\n        \"description\": \"\"\n      }\n    },\n    {\n      \"column\": \"High\",\n      \"properties\": {\n        \"dtype\": \"number\",\n        \"std\": 11.758083958509149,\n        \"min\": 103.41,\n        \"max\": 153.13,\n        \"num_unique_values\": 153,\n        \"samples\": [\n          135.78,\n          138.57,\n          140.33\n        ],\n        \"semantic_type\": \"\",\n        \"description\": \"\"\n      }\n    },\n    {\n      \"column\": \"Low\",\n      \"properties\": {\n        \"dtype\": \"number\",\n        \"std\": 12.403517392154496,\n        \"min\": 90.69,\n        \"max\": 147.82,\n        \"num_unique_values\": 152,\n        \"samples\": [\n          115.39,\n          133.49,\n          132.11\n        ],\n        \"semantic_type\": \"\",\n        \"description\": \"\"\n      }\n    },\n    {\n      \"column\": \"Close\",\n      \"properties\": {\n        \"dtype\": \"number\",\n        \"std\": 12.12586997308619,\n        \"min\": 98.91,\n        \"max\": 149.43,\n        \"num_unique_values\": 153,\n        \"samples\": [\n          138.07,\n          135.72,\n          132.76\n        ],\n        \"semantic_type\": \"\",\n        \"description\": \"\"\n      }\n    },\n    {\n      \"column\": \"Adj Close\",\n      \"properties\": {\n        \"dtype\": \"number\",\n        \"std\": 12.130557243378668,\n        \"min\": 98.89,\n        \"max\": 149.43,\n        \"num_unique_values\": 151,\n        \"samples\": [\n          118.84,\n          134.89,\n          134.79\n        ],\n        \"semantic_type\": \"\",\n        \"description\": \"\"\n      }\n    },\n    {\n      \"column\": \"Log Returns\",\n      \"properties\": {\n        \"dtype\": \"number\",\n        \"std\": 0.03309450835957187,\n        \"min\": -0.10011432799469804,\n        \"max\": 0.12057539219611323,\n        \"num_unique_values\": 154,\n        \"samples\": [\n          -0.019286621357677267,\n          0.008016217154036694,\n          0.04335517470226335\n        ],\n        \"semantic_type\": \"\",\n        \"description\": \"\"\n      }\n    }\n  ]\n}"
            }
          },
          "metadata": {},
          "execution_count": 3
        }
      ]
    },
    {
      "cell_type": "markdown",
      "source": [
        "***"
      ],
      "metadata": {
        "id": "_mEiq0WMNspK"
      }
    },
    {
      "cell_type": "markdown",
      "source": [
        "## **Visualizations**"
      ],
      "metadata": {
        "id": "XqMWlMt9L8aJ"
      }
    },
    {
      "cell_type": "markdown",
      "source": [
        "Now that we have our data prepped, let's graph it."
      ],
      "metadata": {
        "id": "remwRzbvMub5"
      }
    },
    {
      "cell_type": "code",
      "source": [
        "#A graph of the log returns for each of the 154 days\n",
        "plt.plot(nvda['Log Returns']*100)\n",
        "\n",
        "plt.xlabel(\"Closing Day\")\n",
        "plt.ylabel(\"Log Returns (%)\")"
      ],
      "metadata": {
        "colab": {
          "base_uri": "https://localhost:8080/",
          "height": 466
        },
        "id": "iKC8eD9jfb48",
        "outputId": "6debb988-edbc-46eb-f804-a869892dd432"
      },
      "execution_count": 4,
      "outputs": [
        {
          "output_type": "execute_result",
          "data": {
            "text/plain": [
              "Text(0, 0.5, 'Log Returns (%)')"
            ]
          },
          "metadata": {},
          "execution_count": 4
        },
        {
          "output_type": "display_data",
          "data": {
            "text/plain": [
              "<Figure size 640x480 with 1 Axes>"
            ],
            "image/png": "[encoded data removed]"
          },
          "metadata": {}
        }
      ]
    },
    {
      "cell_type": "markdown",
      "source": [
        "Aside from the few high-magnitude spikes, the data appears to follow a discernable pattern, good news for our model."
      ],
      "metadata": {
        "id": "HSQq57ABN2G-"
      }
    },
    {
      "cell_type": "code",
      "source": [
        "#Kdeplot and Rugplot so I can get a quick summary of the shape and frequency\n",
        "sns.kdeplot(data=nvda, x=\"Log Returns\")"
      ],
      "metadata": {
        "colab": {
          "base_uri": "https://localhost:8080/",
          "height": 466
        },
        "id": "TwI02H6pe2yh",
        "outputId": "0aa2f609-2b51-49a8-dd55-90b4f17337f8"
      },
      "execution_count": 5,
      "outputs": [
        {
          "output_type": "execute_result",
          "data": {
            "text/plain": [
              "<Axes: xlabel='Log Returns', ylabel='Density'>"
            ]
          },
          "metadata": {},
          "execution_count": 5
        },
        {
          "output_type": "display_data",
          "data": {
            "text/plain": [
              "<Figure size 640x480 with 1 Axes>"
            ],
            "image/png": "[encoded data removed]"
          },
          "metadata": {}
        }
      ]
    },
    {
      "cell_type": "markdown",
      "source": [
        "The graph appears surprisingly normal, but since I'm using autocorrelation, I'll stick to the likelihood PyMC already has."
      ],
      "metadata": {
        "id": "Hv8Hezl0NTVG"
      }
    },
    {
      "cell_type": "markdown",
      "source": [
        "***"
      ],
      "metadata": {
        "id": "jpIzgSi-Nv39"
      }
    },
    {
      "cell_type": "markdown",
      "source": [
        "## **Preparation for our Model: Finding the Priors/Parameters**\n"
      ],
      "metadata": {
        "id": "LufyGGlgOmuz"
      }
    },
    {
      "cell_type": "markdown",
      "source": [
        "PyMC's Conditional Autoregression likelihood (CAR) requires 4 parameters:\n",
        "\n",
        "1. **mu** (mean)\n",
        "2. **W** (weighted temporal matrix)\n",
        "3. **alpha** (autoregression parameter)\n",
        "4. **tau** (positive precision variable)"
      ],
      "metadata": {
        "id": "w6mc0jsnO8ih"
      }
    },
    {
      "cell_type": "markdown",
      "source": [
        "From PyMC's guide on using the likelihood, three parameters were already preset: $μ$ = 0, $\\alpha$ ~ Normal, and $\\tau$ ~ Gamma. After reviewing other sources, I noticed they used similar priors, so I followed the same approach. The gamma distribution, along  with the normal distribution, is highly flexible so the priors should be weak. However, I had to construct my own weighted matrix since it varies heavily on the nature of the data.\n",
        "\n",
        "**I learned that setting the mean to 0 ensures that predictions are driven by the weighted influence of neighbors rather than introducing unnecessary bias.*"
      ],
      "metadata": {
        "id": "FnLtoStPPprv"
      }
    },
    {
      "cell_type": "markdown",
      "source": [
        "## **Creating the Temporal Weight Matrix**\n"
      ],
      "metadata": {
        "id": "1IhC5ZMGJvP8"
      }
    },
    {
      "cell_type": "markdown",
      "source": [
        "To make a matrix, 3 conditions have to be followed:\n",
        "1. Square (n x n)\n",
        "2. Symmetric across the diagonal\n",
        "3. No self loops (diagonal full of zeros)"
      ],
      "metadata": {
        "id": "D7nWmpAqf7Wk"
      }
    },
    {
      "cell_type": "markdown",
      "source": [
        "Below is a valid example."
      ],
      "metadata": {
        "id": "zDeE2jcGKs1l"
      }
    },
    {
      "cell_type": "code",
      "source": [
        "n= 3\n",
        "example_matrix= np.zeros((n,n)) #making matrix full of zeros\n",
        "for i in range(n-1): #filling the matrix with 1s so each day is influenced by its immediate past and present\n",
        "  example_matrix[i+1, i]=1\n",
        "  example_matrix[i, i+1]=1\n",
        "\n",
        "example_matrix\n"
      ],
      "metadata": {
        "colab": {
          "base_uri": "https://localhost:8080/"
        },
        "id": "pSpnklzZKlO8",
        "outputId": "3249cb93-1bdd-4fed-9f95-9e250bf24ff8"
      },
      "execution_count": 6,
      "outputs": [
        {
          "output_type": "execute_result",
          "data": {
            "text/plain": [
              "array([[0., 1., 0.],\n",
              "       [1., 0., 1.],\n",
              "       [0., 1., 0.]])"
            ]
          },
          "metadata": {},
          "execution_count": 6
        }
      ]
    },
    {
      "cell_type": "markdown",
      "source": [
        "To interpret this matrix, each row represents a time point (a closing day), and each column indicates the magnitude of influence from its associated time point. The matrix structure above could be understood as follows:\n",
        "1. The 1st closing day was influenced by the price of the 2nd closing day\n",
        "2. The 2nd closing day was influenced by the 1st price of the 3rd closing day\n",
        "3. The 3rd closing day was influenced by the price of the 2nd closing day"
      ],
      "metadata": {
        "id": "avs7JReTKv_n"
      }
    },
    {
      "cell_type": "markdown",
      "source": [
        "This created a major issue: the second requirement (symmetry) meant the model would use future prices to influence predictions of present ones---something impossible in real life forecasting. As a result, the model isn't practical for true price prediction. However, since we're working with historical data, we can still build and analyze one.\n",
        "\n",
        "I explored ways to work around this, but PyMC's CAR model is fundamentally designed for spatial, non temporal dependencies, making it less suited for time series.  "
      ],
      "metadata": {
        "id": "bq1EJ45jMIUf"
      }
    },
    {
      "cell_type": "markdown",
      "source": [
        "Regardless, I continued to test whether a workable model could be built. Below is the expanded version of the weight matrix from the earlier example, where n represents the total number of closing price data points available."
      ],
      "metadata": {
        "id": "0fRhJK3vN03i"
      }
    },
    {
      "cell_type": "code",
      "source": [
        "n=nvda.shape[0]\n",
        "past_AR1_matrix= np.zeros((n,n))\n",
        "for i in range(n-1):\n",
        "  past_AR1_matrix[i+1, i]=1\n",
        "  past_AR1_matrix[i, i+1]=1\n",
        "\n",
        "past_AR1_matrix\n"
      ],
      "metadata": {
        "colab": {
          "base_uri": "https://localhost:8080/"
        },
        "id": "5ZBXggtC1aFW",
        "outputId": "ae10cda0-094c-43be-a309-32c5f0c22ac4"
      },
      "execution_count": 7,
      "outputs": [
        {
          "output_type": "execute_result",
          "data": {
            "text/plain": [
              "array([[0., 1., 0., ..., 0., 0., 0.],\n",
              "       [1., 0., 1., ..., 0., 0., 0.],\n",
              "       [0., 1., 0., ..., 0., 0., 0.],\n",
              "       ...,\n",
              "       [0., 0., 0., ..., 0., 1., 0.],\n",
              "       [0., 0., 0., ..., 1., 0., 1.],\n",
              "       [0., 0., 0., ..., 0., 1., 0.]])"
            ]
          },
          "metadata": {},
          "execution_count": 7
        }
      ]
    },
    {
      "cell_type": "markdown",
      "source": [
        "## **Attempt 1: Creating the Model**\n"
      ],
      "metadata": {
        "id": "K_c5u9hZO0o0"
      }
    },
    {
      "cell_type": "markdown",
      "source": [
        "Now that we have the neccessary parameters, we can run our basic model. My hopes aren't high, so I'll be surprised if it actually runs smoothly."
      ],
      "metadata": {
        "id": "vuOnL1Q6PKqD"
      }
    },
    {
      "cell_type": "code",
      "source": [
        "with pm.Model(coords={\"area_idx\": np.arange(n)}) as past_AR1_model:\n",
        "  tau= pm.Gamma(\"tau\", alpha=1, beta=1)\n",
        "  alpha= pm.Normal(\"alpha\", mu=0, sigma=1)\n",
        "\n",
        "  y= pm.CAR(\n",
        "      \"y\", mu=np.zeros(n), W=past_AR1_matrix, alpha= alpha, tau=tau, dims=\"area_idx\", observed= nvda['Log Returns'])\n",
        "\n",
        "  data_1= pm.sample(target_accept = 0.95, return_inferencedata=True)"
      ],
      "metadata": {
        "colab": {
          "base_uri": "https://localhost:8080/",
          "height": 49,
          "referenced_widgets": [
            "fbf8c797a1184d0ca12a4b0c3d3ca160",
            "fc7dbfa6b32b4c5a934ce799e95fc495",
            "e14142d74ef84c21acbbd446f4840fcd",
            "975f92961c484ab187f4da78c2614906"
          ]
        },
        "id": "yvbeALPYPKOl",
        "outputId": "e1775dcc-2936-4ebf-9402-bf8014942c1f"
      },
      "execution_count": 8,
      "outputs": [
        {
          "output_type": "display_data",
          "data": {
            "text/plain": [
              "Output()"
            ],
            "application/vnd.jupyter.widget-view+json": {
              "version_major": 2,
              "version_minor": 0,
              "model_id": "fbf8c797a1184d0ca12a4b0c3d3ca160"
            }
          },
          "metadata": {}
        },
        {
          "output_type": "display_data",
          "data": {
            "text/plain": [],
            "text/html": [
              "<pre style=\"white-space:pre;overflow-x:auto;line-height:normal;font-family:Menlo,'DejaVu Sans Mono',consolas,'Courier New',monospace\"></pre>\n"
            ]
          },
          "metadata": {}
        },
        {
          "output_type": "display_data",
          "data": {
            "text/plain": [
              "Output()"
            ],
            "application/vnd.jupyter.widget-view+json": {
              "version_major": 2,
              "version_minor": 0,
              "model_id": "e14142d74ef84c21acbbd446f4840fcd"
            }
          },
          "metadata": {}
        },
        {
          "output_type": "display_data",
          "data": {
            "text/plain": [],
            "text/html": [
              "<pre style=\"white-space:pre;overflow-x:auto;line-height:normal;font-family:Menlo,'DejaVu Sans Mono',consolas,'Courier New',monospace\"></pre>\n"
            ]
          },
          "metadata": {}
        }
      ]
    },
    {
      "cell_type": "markdown",
      "source": [
        "The first time around, I encountered over 100 divergences, but that was because I forgot to include the observed data in the model. Now that it's fixed, its time to see the posterior predictive distribution."
      ],
      "metadata": {
        "id": "q88spLPjPrNe"
      }
    },
    {
      "cell_type": "code",
      "source": [
        "  pm.sample_posterior_predictive(data_1, model=past_AR1_model, extend_inferencedata=True)\n",
        "\n",
        "  az.plot_ppc(data_1, num_pp_samples=100, figsize=(12, 4), colors=[\"C1\", \"C0\", \"C1\"]) #alpha = .1 makes Posterior Predictive traces less opaque"
      ],
      "metadata": {
        "colab": {
          "base_uri": "https://localhost:8080/",
          "height": 443,
          "referenced_widgets": [
            "dd32dea8767346d6aa26a6f6086b9017",
            "9fd35a11063c47a1814297e78f7b974a"
          ]
        },
        "id": "oHzGxkAJPgD5",
        "outputId": "e789638f-0382-4bce-820a-aeeac1424af5"
      },
      "execution_count": 9,
      "outputs": [
        {
          "output_type": "display_data",
          "data": {
            "text/plain": [
              "Output()"
            ],
            "application/vnd.jupyter.widget-view+json": {
              "version_major": 2,
              "version_minor": 0,
              "model_id": "dd32dea8767346d6aa26a6f6086b9017"
            }
          },
          "metadata": {}
        },
        {
          "output_type": "display_data",
          "data": {
            "text/plain": [],
            "text/html": [
              "<pre style=\"white-space:pre;overflow-x:auto;line-height:normal;font-family:Menlo,'DejaVu Sans Mono',consolas,'Courier New',monospace\"></pre>\n"
            ]
          },
          "metadata": {}
        },
        {
          "output_type": "execute_result",
          "data": {
            "text/plain": [
              "<Axes: xlabel='y'>"
            ]
          },
          "metadata": {},
          "execution_count": 9
        },
        {
          "output_type": "display_data",
          "data": {
            "text/plain": [
              "<Figure size 1200x400 with 1 Axes>"
            ],
            "image/png": "[encoded data removed]"
          },
          "metadata": {}
        }
      ]
    },
    {
      "cell_type": "markdown",
      "source": [
        "The posterior predictive distribution turned out pretty horrible, but at least it follows the generic parabolic shape.\n",
        "\n",
        "I think the primary issue for the model's performance is its AR(1) model order. Since the model is only influenced by prices 1 day in the past/future, it struggles to capture any meaningful trends. For my next attempt, I'll try to expand the model to account for influences across the entire of the 154-day range.\n"
      ],
      "metadata": {
        "id": "ZXBgZF7vSHdM"
      }
    },
    {
      "cell_type": "markdown",
      "source": [
        "## **Attempt 2: Fixing the Model**\n"
      ],
      "metadata": {
        "id": "SKnhK2tzXY_g"
      }
    },
    {
      "cell_type": "markdown",
      "source": [
        "The new matrix below uses a double for-loop to fill all elements except the diagonals with 1s. In hindsight, I could've created a matrix of 1s and zeroed out the diagonal..."
      ],
      "metadata": {
        "id": "0rRYIutUXgGp"
      }
    },
    {
      "cell_type": "code",
      "source": [
        "past_AR2_matrix= np.zeros((n,n)) #Making a matrix full of zeros\n",
        "\n",
        "for i in range(n): #Loop over each row\n",
        "  for j in range(1, n): #Loop over each column for n columns\n",
        "    if i-j>=0: #Ensure we don't negative indices\n",
        "      past_AR2_matrix[i, i-j]=1 #Past values predict current ones\n",
        "      past_AR2_matrix[i-j, i]=1 #Same as above, flipped for symmetry\n",
        "past_AR2_matrix"
      ],
      "metadata": {
        "colab": {
          "base_uri": "https://localhost:8080/"
        },
        "id": "9vuY2xmXaRn8",
        "outputId": "0f0059ee-10c8-4bf1-8eb4-4baf76373711"
      },
      "execution_count": 10,
      "outputs": [
        {
          "output_type": "execute_result",
          "data": {
            "text/plain": [
              "array([[0., 1., 1., ..., 1., 1., 1.],\n",
              "       [1., 0., 1., ..., 1., 1., 1.],\n",
              "       [1., 1., 0., ..., 1., 1., 1.],\n",
              "       ...,\n",
              "       [1., 1., 1., ..., 0., 1., 1.],\n",
              "       [1., 1., 1., ..., 1., 0., 1.],\n",
              "       [1., 1., 1., ..., 1., 1., 0.]])"
            ]
          },
          "metadata": {},
          "execution_count": 10
        }
      ]
    },
    {
      "cell_type": "code",
      "source": [
        "with pm.Model(coords={\"area_idx\": np.arange(n)}) as past_AR2_model:\n",
        "  tau= pm.Gamma(\"tau\", alpha=1, beta=1)\n",
        "  alpha= pm.Normal(\"alpha\", mu=0, sigma=1)\n",
        "\n",
        "  y= pm.CAR(\n",
        "      \"y\", mu=np.zeros(n), W=past_AR2_matrix, alpha= alpha, tau=tau, dims=\"area_idx\", observed= nvda['Log Returns'])\n",
        "\n",
        "  data_2= pm.sample(target_accept = 0.95, return_inferencedata=True)"
      ],
      "metadata": {
        "colab": {
          "base_uri": "https://localhost:8080/",
          "height": 66,
          "referenced_widgets": [
            "014f423bfc2e4e8895ee0ccb5e18d262",
            "6f3487c9c87e4b75ae209b2d5c9cfe53",
            "fe38b5afbf38422f8fff69f691aa7b29",
            "97803edd52fa41c9addb4d0c353359b1"
          ]
        },
        "id": "t6kmoJl7Y8Dm",
        "outputId": "5e98db4f-b18a-4355-fca5-2aef6360c80b"
      },
      "execution_count": 11,
      "outputs": [
        {
          "output_type": "display_data",
          "data": {
            "text/plain": [
              "Output()"
            ],
            "application/vnd.jupyter.widget-view+json": {
              "version_major": 2,
              "version_minor": 0,
              "model_id": "014f423bfc2e4e8895ee0ccb5e18d262"
            }
          },
          "metadata": {}
        },
        {
          "output_type": "display_data",
          "data": {
            "text/plain": [],
            "text/html": [
              "<pre style=\"white-space:pre;overflow-x:auto;line-height:normal;font-family:Menlo,'DejaVu Sans Mono',consolas,'Courier New',monospace\"></pre>\n"
            ]
          },
          "metadata": {}
        },
        {
          "output_type": "display_data",
          "data": {
            "text/plain": [
              "Output()"
            ],
            "application/vnd.jupyter.widget-view+json": {
              "version_major": 2,
              "version_minor": 0,
              "model_id": "fe38b5afbf38422f8fff69f691aa7b29"
            }
          },
          "metadata": {}
        },
        {
          "output_type": "display_data",
          "data": {
            "text/plain": [],
            "text/html": [
              "<pre style=\"white-space:pre;overflow-x:auto;line-height:normal;font-family:Menlo,'DejaVu Sans Mono',consolas,'Courier New',monospace\"></pre>\n"
            ]
          },
          "metadata": {}
        },
        {
          "output_type": "stream",
          "name": "stderr",
          "text": [
            "ERROR:pymc.stats.convergence:There were 676 divergences after tuning. Increase `target_accept` or reparameterize.\n"
          ]
        }
      ]
    },
    {
      "cell_type": "markdown",
      "source": [
        "This new model resulted in 500+ divergences, and I realized I made a major mistake. First off, I incorrectly assumed that the current value was influenced by every price before and after it, which is already problematic. On top of that, I treated all those influences equally; so, regardless of whether the closing price was 100 days ago or just 2 days ago, both had the same magnitude of effect. In my next model, I'll try to implement a decaying influence structure and reduce the AR(n) structure  to something more manageable."
      ],
      "metadata": {
        "id": "PRHInJ-HZFyq"
      }
    },
    {
      "cell_type": "markdown",
      "source": [
        "I was going to run a posterior predictive distribution for this failed model, but it looks like it'll take too long."
      ],
      "metadata": {
        "id": "1a8udelsZzL2"
      }
    },
    {
      "cell_type": "code",
      "source": [
        "  #If anyone wants to run it\n",
        "\n",
        "  #pm.sample_posterior_predictive(data_2, model=past_AR2_model, extend_inferencedata=True)\n",
        "\n",
        "  #az.plot_ppc(data_2, num_pp_samples=100, figsize=(12, 4), colors=[\"C1\", \"C0\", \"C1\"]) #alpha = .1 makes Posterior Predictive traces less opaque"
      ],
      "metadata": {
        "id": "bptP25WKY-PP"
      },
      "execution_count": 12,
      "outputs": []
    },
    {
      "cell_type": "markdown",
      "source": [
        "## **Attempt 3: Fixing the Model Again**\n"
      ],
      "metadata": {
        "id": "qw6b3AVQaHll"
      }
    },
    {
      "cell_type": "markdown",
      "source": [
        "This time, I've decided to apply a decaying influence to closing prices and limit the model to an AR(5)---reflecting the number of days in a trading week. In this new setup, the only influences on a stock's price come from closing values 5 days before and after, with greater weight given to more immediate days. This should help the model better capture the realistic, short-term dependencies in stock prices."
      ],
      "metadata": {
        "id": "NYw5XUVIaL4M"
      }
    },
    {
      "cell_type": "code",
      "source": [
        "decay_factor=.2\n",
        "decay_limit= 5\n",
        "\n",
        "past_AR3_matrix= np.zeros((n,n)) #Making a matrix full of zeros\n",
        "\n",
        "for i in range(n): #Loop over each row\n",
        "  for j in range(1, decay_limit +1):  #Loop over 5 columns\n",
        "    if i-j>=0: #Ensure we don't negative indices\n",
        "      past_AR3_matrix[i, i-j]=decay_factor**j #Similar to earlier matrix; this time decaying rate depends on j\n",
        "      past_AR3_matrix[i-j, i]=decay_factor**j #Same idea of symmetry\n",
        "\n",
        "np.fill_diagonal(past_AR3_matrix, 0) #Ensuring diagonals are filled with zeros (no self-influence)\n",
        "past_AR3_matrix"
      ],
      "metadata": {
        "colab": {
          "base_uri": "https://localhost:8080/"
        },
        "id": "o7Hg9nhCfiir",
        "outputId": "f50fcb83-93d9-4855-87d6-d1f5476e07e2"
      },
      "execution_count": 13,
      "outputs": [
        {
          "output_type": "execute_result",
          "data": {
            "text/plain": [
              "array([[0.  , 0.2 , 0.04, ..., 0.  , 0.  , 0.  ],\n",
              "       [0.2 , 0.  , 0.2 , ..., 0.  , 0.  , 0.  ],\n",
              "       [0.04, 0.2 , 0.  , ..., 0.  , 0.  , 0.  ],\n",
              "       ...,\n",
              "       [0.  , 0.  , 0.  , ..., 0.  , 0.2 , 0.04],\n",
              "       [0.  , 0.  , 0.  , ..., 0.2 , 0.  , 0.2 ],\n",
              "       [0.  , 0.  , 0.  , ..., 0.04, 0.2 , 0.  ]])"
            ]
          },
          "metadata": {},
          "execution_count": 13
        }
      ]
    },
    {
      "cell_type": "code",
      "source": [
        "with pm.Model(coords={\"area_idx\": np.arange(n)}) as past_AR3_model:\n",
        "  tau= pm.Gamma(\"tau\", alpha=1, beta=1)\n",
        "  alpha= pm.Normal(\"alpha\", mu=0, sigma=1)\n",
        "\n",
        "  y= pm.CAR(\n",
        "      \"y\", mu=np.zeros(n), W=past_AR3_matrix, alpha= alpha, tau=tau, dims=\"area_idx\", observed= nvda['Log Returns'])\n",
        "\n",
        "  data_3= pm.sample(target_accept = 0.95, return_inferencedata=True)"
      ],
      "metadata": {
        "colab": {
          "base_uri": "https://localhost:8080/",
          "height": 49,
          "referenced_widgets": [
            "b0e9f38e5e454005ab41f6c2edd9ce71",
            "33d7a63ed03c4fa4bb4f62bc16911fba",
            "f65a6f398cd44f64bc18695c508e8e2f",
            "da8ecbf275ea4d719848e077a2d12709"
          ]
        },
        "id": "4WRN_2xKfXRN",
        "outputId": "313dcd82-1693-4c11-d255-bbbb14e3d6f3"
      },
      "execution_count": 14,
      "outputs": [
        {
          "output_type": "display_data",
          "data": {
            "text/plain": [
              "Output()"
            ],
            "application/vnd.jupyter.widget-view+json": {
              "version_major": 2,
              "version_minor": 0,
              "model_id": "b0e9f38e5e454005ab41f6c2edd9ce71"
            }
          },
          "metadata": {}
        },
        {
          "output_type": "display_data",
          "data": {
            "text/plain": [],
            "text/html": [
              "<pre style=\"white-space:pre;overflow-x:auto;line-height:normal;font-family:Menlo,'DejaVu Sans Mono',consolas,'Courier New',monospace\"></pre>\n"
            ]
          },
          "metadata": {}
        },
        {
          "output_type": "display_data",
          "data": {
            "text/plain": [
              "Output()"
            ],
            "application/vnd.jupyter.widget-view+json": {
              "version_major": 2,
              "version_minor": 0,
              "model_id": "f65a6f398cd44f64bc18695c508e8e2f"
            }
          },
          "metadata": {}
        },
        {
          "output_type": "display_data",
          "data": {
            "text/plain": [],
            "text/html": [
              "<pre style=\"white-space:pre;overflow-x:auto;line-height:normal;font-family:Menlo,'DejaVu Sans Mono',consolas,'Courier New',monospace\"></pre>\n"
            ]
          },
          "metadata": {}
        }
      ]
    },
    {
      "cell_type": "code",
      "source": [
        "  pm.sample_posterior_predictive(data_3, model=past_AR3_model, extend_inferencedata=True)\n",
        "\n",
        "  az.plot_ppc(data_3, num_pp_samples=100, figsize=(12, 4), colors=[\"C1\", \"C0\", \"C1\"]) #alpha = .1 makes Posterior Predictive traces less opaque"
      ],
      "metadata": {
        "colab": {
          "base_uri": "https://localhost:8080/",
          "height": 443,
          "referenced_widgets": [
            "fc2c2fb16038479eb4e1b432546f401a",
            "7ff7696ac0cf497f95f81d6cdd9af1c9"
          ]
        },
        "id": "JzFF9F7-fag9",
        "outputId": "885b50d6-5bbf-458e-ae8b-0ff64c2379fd"
      },
      "execution_count": 15,
      "outputs": [
        {
          "output_type": "display_data",
          "data": {
            "text/plain": [
              "Output()"
            ],
            "application/vnd.jupyter.widget-view+json": {
              "version_major": 2,
              "version_minor": 0,
              "model_id": "fc2c2fb16038479eb4e1b432546f401a"
            }
          },
          "metadata": {}
        },
        {
          "output_type": "display_data",
          "data": {
            "text/plain": [],
            "text/html": [
              "<pre style=\"white-space:pre;overflow-x:auto;line-height:normal;font-family:Menlo,'DejaVu Sans Mono',consolas,'Courier New',monospace\"></pre>\n"
            ]
          },
          "metadata": {}
        },
        {
          "output_type": "execute_result",
          "data": {
            "text/plain": [
              "<Axes: xlabel='y'>"
            ]
          },
          "metadata": {},
          "execution_count": 15
        },
        {
          "output_type": "display_data",
          "data": {
            "text/plain": [
              "<Figure size 1200x400 with 1 Axes>"
            ],
            "image/png": "[encoded data removed]"
          },
          "metadata": {}
        }
      ]
    },
    {
      "cell_type": "markdown",
      "source": [
        "The posterior looks a lot better this time! I did tweak the decay rate, so the curve above isn't from my first attempt. Below, I'm creating an array to visualize our model's predictions for the days we inputted."
      ],
      "metadata": {
        "id": "ZCjj3we3eNPy"
      }
    },
    {
      "cell_type": "code",
      "source": [
        "#Function from Unit 2 that we used to make predictions\n",
        "pm.sample_posterior_predictive(data_3, model=past_AR3_model, extend_inferencedata=True)\n",
        "\n",
        "#Stacking the two MCMC chains together\n",
        "stacked_nvda = az.extract(data_3, group=\"posterior_predictive\")\n",
        "\n",
        "#Array of predicted log returns\n",
        "stacked_nvda.sel(sample=0).sel(draw=0).y.to_series().values\n",
        "\n",
        "#Creating new array of size n+1 to store actual prices, not log returns\n",
        "prices_nvda= np.zeros(n+1)\n",
        "\n",
        "#Storing the first price (that's why the size is n+1)\n",
        "prices_nvda[0]= 120.89\n",
        "\n",
        "#Iterating through the Log Returns and back into prices\n",
        "for i in range(1, n+1):\n",
        "    #instead of getting the entire array of log returns, we get each one indivually\n",
        "    log_returns=stacked_nvda.sel(sample=0).sel(draw=0).y[i-1]\n",
        "\n",
        "    #Formula for Log Return -> Price\n",
        "    prices_nvda[i]= prices_nvda[i-1]*np.exp(log_returns)\n",
        "\n",
        "prices_nvda"
      ],
      "metadata": {
        "colab": {
          "base_uri": "https://localhost:8080/",
          "height": 710,
          "referenced_widgets": [
            "58d30b3a38d74028b87b2b67f42f5f6d",
            "c4fe4c04d85345488b0ac2a06b09245a"
          ]
        },
        "id": "iWSVPSKY4vvy",
        "outputId": "ec5bce72-7f9f-47b2-abfa-c3e0b7881ed3"
      },
      "execution_count": 16,
      "outputs": [
        {
          "output_type": "display_data",
          "data": {
            "text/plain": [
              "Output()"
            ],
            "application/vnd.jupyter.widget-view+json": {
              "version_major": 2,
              "version_minor": 0,
              "model_id": "58d30b3a38d74028b87b2b67f42f5f6d"
            }
          },
          "metadata": {}
        },
        {
          "output_type": "display_data",
          "data": {
            "text/plain": [],
            "text/html": [
              "<pre style=\"white-space:pre;overflow-x:auto;line-height:normal;font-family:Menlo,'DejaVu Sans Mono',consolas,'Courier New',monospace\"></pre>\n"
            ]
          },
          "metadata": {}
        },
        {
          "output_type": "execute_result",
          "data": {
            "text/plain": [
              "array([120.89      , 125.61424616, 122.07734752, 128.2012915 ,\n",
              "       126.37727381, 130.88523671, 128.9832081 , 128.3606857 ,\n",
              "       125.5687763 , 122.72847043, 129.19387317, 128.51997616,\n",
              "       130.2566525 , 131.87234331, 132.01948313, 132.66143544,\n",
              "       135.91571363, 130.51439367, 127.41754337, 130.64598574,\n",
              "       124.08073349, 130.1239091 , 128.72238072, 134.65856417,\n",
              "       130.11146201, 130.03026134, 132.78112293, 137.73150676,\n",
              "       136.10936327, 141.62599669, 139.28174488, 143.47932316,\n",
              "       144.87484276, 143.15454815, 145.96730094, 146.64555891,\n",
              "       145.28640312, 145.44505798, 148.32676057, 154.97860564,\n",
              "       151.19409715, 156.02715657, 154.48784811, 157.16717137,\n",
              "       153.07451238, 151.777219  , 147.65437252, 140.52889105,\n",
              "       148.97995001, 149.11364991, 143.6277097 , 147.02930511,\n",
              "       147.57916313, 151.20332778, 149.00538542, 139.86308977,\n",
              "       142.58629822, 141.70729652, 140.62720743, 147.02764841,\n",
              "       148.36913028, 150.25322793, 154.38696817, 154.37375831,\n",
              "       152.39600633, 150.54705548, 152.58944929, 157.07181361,\n",
              "       161.86352603, 167.46475531, 164.94489053, 167.31466462,\n",
              "       170.07844968, 165.9847479 , 166.6307961 , 163.77110776,\n",
              "       163.66932391, 166.41322171, 168.60735615, 168.11882073,\n",
              "       174.79904691, 172.78259547, 176.47491209, 171.97399353,\n",
              "       166.3640911 , 168.94703411, 159.7923006 , 161.01103078,\n",
              "       160.79402982, 160.96145001, 155.76853865, 152.72414127,\n",
              "       159.30950595, 163.04543266, 160.20839811, 170.24064536,\n",
              "       167.5391702 , 165.42327557, 166.72631715, 167.62498333,\n",
              "       163.06843126, 162.29746768, 159.57781735, 155.30065117,\n",
              "       148.62813977, 150.80693193, 149.84908406, 155.50922869,\n",
              "       155.97152022, 152.62422475, 156.3268781 , 155.43435161,\n",
              "       147.96715923, 155.32651767, 159.3640408 , 158.17325155,\n",
              "       161.75847974, 151.69304635, 152.82049349, 158.00636657,\n",
              "       159.32773311, 160.0956195 , 155.62330339, 160.05724129,\n",
              "       160.4223645 , 166.4706926 , 170.04577483, 168.51306465,\n",
              "       169.07124796, 174.28433243, 171.48867198, 175.91585736,\n",
              "       178.84237183, 173.86091398, 173.40596979, 170.92828748,\n",
              "       170.12512838, 170.72517107, 177.29388952, 167.85512901,\n",
              "       171.3953143 , 166.38647894, 173.12028298, 169.19724175,\n",
              "       168.86340708, 169.02213094, 159.93959204, 164.60910617,\n",
              "       163.42619008, 162.89995053, 163.6720168 , 164.13081381,\n",
              "       164.98138782, 157.53937292, 162.23167576])"
            ]
          },
          "metadata": {},
          "execution_count": 16
        }
      ]
    },
    {
      "cell_type": "markdown",
      "source": [
        "## **Final Thoughts**"
      ],
      "metadata": {
        "id": "jTQRxCROmsu8"
      }
    },
    {
      "cell_type": "markdown",
      "source": [
        "Initially, the model followed a standard AR(1) structure, but after realizing it couldn't effectively capture trends, we transitioned to an AR(n) program. This brought its own challenges, including sensitivity to outdated prices and treating all closing prices with equal influence. Eventually, we shifted to an AR(5) structure where influence was decayed over time; this worked the best.\n",
        "\n",
        "While the projections our model created weren't perfect---NVDA never dipped below $98 in our time frame---they could've been much worse. The model was fairly accurate at the start, began to underestimate later, and eventually began to overestimate.\n",
        "\n",
        "One of the biggest flaws in the model was that we weren't able to create a weighted matrix that wasn't symmetrical; this made the model unrealistic. In the future, I'd like to find a better likelihood suited for temporal data and/or expirement with other forecasting methods beyond Autoregression."
      ],
      "metadata": {
        "id": "CmxFxs3onB_k"
      }
    }
  ]
}